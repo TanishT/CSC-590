{
 "cells": [
  {
   "cell_type": "code",
   "execution_count": 11,
   "metadata": {},
   "outputs": [],
   "source": [
    "import random"
   ]
  },
  {
   "cell_type": "code",
   "execution_count": 12,
   "metadata": {},
   "outputs": [],
   "source": [
    "deck = [2, 3, 4, 5, 6, 7, 8, 9, 10, 11, 12, 13, 14] * 4"
   ]
  },
  {
   "cell_type": "code",
   "execution_count": null,
   "metadata": {},
   "outputs": [],
   "source": [
    "def blackjack():\n",
    "    print(\"\\nWelcome to Blackjack!!!!\\n\")   \n",
    "    print(\"Here are your options: \\n\\t1. Type S to Start \\n\\t2. Type Q to quit\")\n",
    "    player_hand = deal(deck)\n",
    "    dealer_hand = deal(deck)\n",
    "    \n",
    "    user_choice = input()\n",
    "    if (user_choice == 'Q' or user_choice == 'q'):\n",
    "        print(\"Bye Bye!\")\n",
    "    else:         \n",
    "        while True:\n",
    "            player_score = 0\n",
    "            dealer_score = 0\n",
    "            #print(player_hand)\n",
    "            #print(dealer_hand)\n",
    "            print(\"\\nWhat do you want to do? Type H to hit and S to stand\")\n",
    "            user_choice = input()\n",
    "\n",
    "            if (user_choice == 'H' or user_choice == 'h'):\n",
    "                hit(player_hand, dealer_hand)\n",
    "                if (get_score(player_hand) >= 21 or get_score(dealer_hand) >= 21):\n",
    "                    decide_winner(player_hand, dealer_hand)\n",
    "                    break\n",
    "            elif (user_choice == 'S' or user_choice == 's'):\n",
    "                player_score, dealer_score = stand(player_hand, dealer_hand)\n",
    "                decide_winner(player_hand, dealer_hand)\n",
    "                break\n",
    "\n",
    "            print_scores(player_hand, dealer_hand)\n",
    "    \n",
    "    print(\"Do you want to play again? Type Y/N\")\n",
    "    play_again = input()\n",
    "    if (play_again == 'Y' or play_again == 'y'):\n",
    "        start_game_again()\n",
    "    elif (play_again == 'N' or play_again == 'n'):\n",
    "        print(\"Thanks for playing! Bye Bye!\")"
   ]
  },
  {
   "cell_type": "code",
   "execution_count": null,
   "metadata": {},
   "outputs": [],
   "source": [
    "def deal(deck):\n",
    "    hand = []\n",
    "    for i in range(2):\n",
    "        random.shuffle(deck)\n",
    "        curr_card = deck.pop()\n",
    "        if curr_card == 11:\n",
    "            curr_card = \"J\"\n",
    "        if curr_card == 12:\n",
    "            curr_card = \"Q\"\n",
    "        if curr_card == 13:\n",
    "            curr_card = \"K\"\n",
    "        if curr_card == 14:\n",
    "            curr_card = \"A\"\n",
    "        hand.append(curr_card)\n",
    "    return hand"
   ]
  },
  {
   "cell_type": "code",
   "execution_count": null,
   "metadata": {},
   "outputs": [],
   "source": [
    "def hit(player_hand, dealer_hand):\n",
    "    next_player_card = deck.pop()\n",
    "    next_dealer_card = deck.pop()\n",
    "    if (get_score(dealer_hand) + next_dealer_card <= 17):\n",
    "        dealer_hand.append(next_dealer_card)\n",
    "    player_hand.append(next_player_card)"
   ]
  },
  {
   "cell_type": "code",
   "execution_count": null,
   "metadata": {},
   "outputs": [],
   "source": [
    "def stand(player_hand, dealer_hand):\n",
    "    next_card = deck.pop()\n",
    "    player_score = get_score(player_hand)\n",
    "    dealer_score = get_score(dealer_hand)\n",
    "    if (dealer_score <= 17):\n",
    "        dealer_hand.append(next_card)\n",
    "    elif (dealer_score + get_score(list(next_card)) <= 21):\n",
    "          # dealer is now allowed to stand\n",
    "          # it is only logical for dealer to get the additional card if their score remains <= 21\n",
    "          dealer_hand.append(next_card)\n",
    "    return player_score, dealer_score"
   ]
  },
  {
   "cell_type": "code",
   "execution_count": null,
   "metadata": {},
   "outputs": [],
   "source": [
    "def get_score(hand):\n",
    "    score = 0\n",
    "    for i in range(len(hand)):\n",
    "        if (hand[i] == 'J' or hand[i] == 'Q' or hand[i] == 'K'):\n",
    "            score += 10\n",
    "        elif (hand[i] == 'A'):\n",
    "            if (score >= 11):\n",
    "                # 11 + 11 = 22 > 21, most logical move is to add 1\n",
    "                score += 1\n",
    "            else:\n",
    "                score += 11\n",
    "        else:\n",
    "            score += hand[i]\n",
    "    return score"
   ]
  },
  {
   "cell_type": "code",
   "execution_count": 1,
   "metadata": {},
   "outputs": [],
   "source": [
    "def decide_winner(player_hand, dealer_hand):\n",
    "    player_score = get_score(player_hand)\n",
    "    dealer_score = get_score(dealer_hand)\n",
    "    print_scores(player_hand, dealer_hand)\n",
    "    if (player_score == 21):\n",
    "        print (\"Congratulations! You have gotten  a Blackjack!\\n\")\n",
    "    elif (dealer_score == 21):\n",
    "        print (\"Sorry, you lose. The dealer got a blackjack. F \\n\")\n",
    "    elif (player_score > 21):\n",
    "        print (\"Bust. You lose. F\\n\")\n",
    "    elif (dealer_score > 21):\n",
    "        print (\"Dealer has busted. You win!\\n\")\n",
    "    elif (player_score < dealer_score):\n",
    "        print (\"Dealer score is higher than your. You lose. F \\n\")\n",
    "    elif (player_score > dealer_score):\n",
    "        print (\"Congratulations! Your score is higher than the dealer. You win!\\n\")"
   ]
  },
  {
   "cell_type": "code",
   "execution_count": null,
   "metadata": {},
   "outputs": [],
   "source": [
    "def print_scores(player_hand, dealer_hand):\n",
    "    print (\"\\nDealer Hand: \", str(dealer_hand), \", Total: \", get_score(dealer_hand))\n",
    "    print (\"Your Hand: \", str(player_hand), \", Total: \", get_score(player_hand), \"\\n\")"
   ]
  },
  {
   "cell_type": "code",
   "execution_count": null,
   "metadata": {},
   "outputs": [],
   "source": [
    "def start_game_again():\n",
    "    deck = [2, 3, 4, 5, 6, 7, 8, 9, 10, 11, 12, 13, 14] * 4\n",
    "    blackjack()"
   ]
  },
  {
   "cell_type": "code",
   "execution_count": null,
   "metadata": {},
   "outputs": [],
   "source": [
    "blackjack()"
   ]
  },
  {
   "cell_type": "code",
   "execution_count": null,
   "metadata": {},
   "outputs": [],
   "source": []
  }
 ],
 "metadata": {
  "kernelspec": {
   "display_name": "Python 3.8.0 32-bit",
   "language": "python",
   "name": "python38032bitf89af38f6aed4e70b8738a99152d0208"
  },
  "language_info": {
   "codemirror_mode": {
    "name": "ipython",
    "version": 3
   },
   "file_extension": ".py",
   "mimetype": "text/x-python",
   "name": "python",
   "nbconvert_exporter": "python",
   "pygments_lexer": "ipython3",
   "version": "3.8.0"
  }
 },
 "nbformat": 4,
 "nbformat_minor": 4
}
