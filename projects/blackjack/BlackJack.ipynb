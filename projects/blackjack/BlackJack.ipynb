{
 "cells": [
  {
   "cell_type": "code",
   "execution_count": 38,
   "metadata": {},
   "outputs": [
    {
     "data": {
      "text/plain": [
       "\"\\nplayer plays completely b4 dealer - player can only see 1 of dealer's cards\\nonce you stand, dealer revels second card --> if that total is <= 17, then the dealer will take another card\\nand then game will be over\\n\""
      ]
     },
     "execution_count": 38,
     "metadata": {},
     "output_type": "execute_result"
    }
   ],
   "source": [
    "\"\"\"\n",
    "player plays completely b4 dealer - player can only see 1 of dealer's cards\n",
    "once you stand, dealer revels second card --> if that total is <= 17, then the dealer will take another card\n",
    "and then game will be over\n",
    "\"\"\""
   ]
  },
  {
   "cell_type": "code",
   "execution_count": 39,
   "metadata": {},
   "outputs": [],
   "source": [
    "import random"
   ]
  },
  {
   "cell_type": "code",
   "execution_count": 40,
   "metadata": {},
   "outputs": [],
   "source": [
    "deck = [2, 3, 4, 5, 6, 7, 8, 9, 10, 11, 12, 13, 14] * 4                    "
   ]
  },
  {
   "cell_type": "code",
   "execution_count": 41,
   "metadata": {},
   "outputs": [],
   "source": [
    "def blackjack():\n",
    "    print(\"\\nWelcome to Blackjack!!!!\\n\")   \n",
    "    print(\"Here are your options: \\n\\t1. Type S to Start \\n\\t2. Type Q to quit\")\n",
    "    player_hand = deal(deck)\n",
    "    dealer_hand = deal(deck)\n",
    "    inPlay = True\n",
    "    user_choice = input()\n",
    "    if (user_choice == 'Q' or user_choice == 'q'):\n",
    "        print(\"Bye Bye!\")\n",
    "        return None\n",
    "    else:         \n",
    "        while inPlay:\n",
    "            player_score = 0\n",
    "            dealer_score = 0\n",
    "            #print(player_hand)\n",
    "            #print(type(dealer_hand))\n",
    "            \n",
    "            hit_info(player_hand, dealer_hand)\n",
    "            print(\"\\nWhat do you want to do? Type H to hit and S to stand\")\n",
    "            user_choice = input()\n",
    "            \n",
    "            while (user_choice == 'H' or user_choice == 'h'):\n",
    "                hit(player_hand, dealer_hand)\n",
    "                if (get_score(player_hand) >= 21 or get_score(dealer_hand) >= 21):\n",
    "                    decide_winner(player_hand, dealer_hand)\n",
    "                    break\n",
    "                    \n",
    "            if (user_choice == 'S' or user_choice == 's'):\n",
    "                player_score, dealer_score = stand(player_hand, dealer_hand)\n",
    "                decide_winner(player_hand, dealer_hand)\n",
    "                break\n",
    "    \n",
    "# #     if (winner == False):\n",
    "# #         loses += 1\n",
    "# #     else:\n",
    "# #         wins += 1\n",
    "    \n",
    "    \n",
    "# #     print (\"\\nWins: \" + wins)\n",
    "# #     print(\"Loses: \" + loses)\n",
    "    \n",
    "#             print(\"Do you want to play again? Type Y/N\")\n",
    "#             play_again = input()\n",
    "#             if (play_again == 'Y' or play_again == 'y'):\n",
    "#                 start_game_again()\n",
    "#             elif (play_again == 'N' or play_again == 'n'):\n",
    "#                 print(\"Thanks for playing! Bye Bye!\")\n",
    "#                 inPlay = False"
   ]
  },
  {
   "cell_type": "code",
   "execution_count": 42,
   "metadata": {},
   "outputs": [],
   "source": [
    "def deal(deck):\n",
    "    hand = []\n",
    "    for i in range(2):\n",
    "        random.shuffle(deck)\n",
    "        curr_card = deck.pop()\n",
    "        if curr_card == 11:\n",
    "            curr_card = \"J\"\n",
    "        if curr_card == 12:\n",
    "            curr_card = \"Q\"\n",
    "        if curr_card == 13:\n",
    "            curr_card = \"K\"\n",
    "        if curr_card == 14:\n",
    "            curr_card = \"A\"\n",
    "        hand.append(curr_card)\n",
    "    return hand"
   ]
  },
  {
   "cell_type": "code",
   "execution_count": 43,
   "metadata": {},
   "outputs": [],
   "source": [
    "def hit(player_hand, dealer_hand):\n",
    "    next_player_card = deck.pop()\n",
    "    #next_dealer_card = deck.pop()\n",
    "    #if (get_score(dealer_hand) + next_dealer_card <= 17):\n",
    "    #    dealer_hand.append(next_dealer_card)\n",
    "    player_hand.append(next_player_card)\n",
    "    hit_info(player_hand, dealer_hand)"
   ]
  },
  {
   "cell_type": "code",
   "execution_count": 44,
   "metadata": {},
   "outputs": [],
   "source": [
    "def stand(player_hand, dealer_hand):\n",
    "    next_card = deck.pop()\n",
    "    player_score = get_score(player_hand)\n",
    "    dealer_score = get_score(dealer_hand)\n",
    "    if (dealer_score <= 17):\n",
    "        dealer_hand.append(next_card)\n",
    "    return player_score, dealer_score"
   ]
  },
  {
   "cell_type": "code",
   "execution_count": 45,
   "metadata": {},
   "outputs": [],
   "source": [
    "def get_score(hand):\n",
    "    score = 0\n",
    "    for i in range(len(hand)):\n",
    "        if (hand[i] == 'J' or hand[i] == 'Q' or hand[i] == 'K'):\n",
    "            #face cards\n",
    "            score += 10\n",
    "        elif (hand[i] == 'A'):\n",
    "            if (score >= 11):\n",
    "                # 11 + 11 = 22 > 21, most logical move is to add 1\n",
    "                score += 1\n",
    "            else:\n",
    "                score += 11\n",
    "        else:\n",
    "            score += hand[i]\n",
    "    return score"
   ]
  },
  {
   "cell_type": "code",
   "execution_count": 46,
   "metadata": {},
   "outputs": [],
   "source": [
    "def decide_winner(player_hand, dealer_hand):    \n",
    "    player_score = get_score(player_hand)\n",
    "    dealer_score = get_score(dealer_hand)\n",
    "    print_scores(player_hand, dealer_hand)\n",
    "    \n",
    "    if (player_score == 21):\n",
    "        print (\"Congratulations! You have gotten  a Blackjack!\\n\")\n",
    "    elif (dealer_score == 21):\n",
    "        print (\"Sorry, you lose. The dealer got a blackjack. F \\n\")\n",
    "    elif (player_score > 21):\n",
    "        print (\"Bust. You lose. F\\n\")\n",
    "    elif (dealer_score > 21):\n",
    "        print (\"Dealer has busted. You win!\\n\")\n",
    "    elif (player_score < dealer_score):\n",
    "        print (\"Dealer score is higher than your. You lose. F \\n\")\n",
    "    elif (player_score > dealer_score):\n",
    "        print (\"Congratulations! Your score is higher than the dealer. You win!\\n\")"
   ]
  },
  {
   "cell_type": "code",
   "execution_count": 47,
   "metadata": {},
   "outputs": [],
   "source": [
    "def print_scores(player_hand, dealer_hand):\n",
    "    print (\"\\nDealer Hand: \", str(dealer_hand), \", Total: \", get_score(dealer_hand))\n",
    "    print (\"Your Hand: \", str(player_hand), \", Total: \", get_score(player_hand), \"\\n\")"
   ]
  },
  {
   "cell_type": "code",
   "execution_count": 48,
   "metadata": {},
   "outputs": [],
   "source": [
    "def hit_info(player_hand, dealer_hand):\n",
    "    print (\"Your Hand: \", str(player_hand), \", Total: \", get_score(player_hand), \"\\n\")\n",
    "    first_card = str(dealer_hand[0])\n",
    "    dealer_list = list(dealer_hand[0])\n",
    "    print (\"Dealer's first card: \", str(dealer_hand[0]), \" , Total: \", get_score(dealer_list))"
   ]
  },
  {
   "cell_type": "code",
   "execution_count": 49,
   "metadata": {},
   "outputs": [],
   "source": [
    "def start_game_again():\n",
    "    deck = [2, 3, 4, 5, 6, 7, 8, 9, 10, 11, 12, 13, 14] * 4\n",
    "    blackjack()"
   ]
  },
  {
   "cell_type": "code",
   "execution_count": 50,
   "metadata": {
    "scrolled": false
   },
   "outputs": [
    {
     "name": "stdout",
     "output_type": "stream",
     "text": [
      "\n",
      "Welcome to Blackjack!!!!\n",
      "\n",
      "Here are your options: \n",
      "\t1. Type S to Start \n",
      "\t2. Type Q to quit\n",
      "S\n",
      "Your Hand:  [3, 'K'] , Total:  13 \n",
      "\n"
     ]
    },
    {
     "ename": "TypeError",
     "evalue": "'int' object is not iterable",
     "output_type": "error",
     "traceback": [
      "\u001b[1;31m---------------------------------------------------------------------------\u001b[0m",
      "\u001b[1;31mTypeError\u001b[0m                                 Traceback (most recent call last)",
      "\u001b[1;32m<ipython-input-50-23b35eeb7016>\u001b[0m in \u001b[0;36m<module>\u001b[1;34m\u001b[0m\n\u001b[1;32m----> 1\u001b[1;33m \u001b[0mblackjack\u001b[0m\u001b[1;33m(\u001b[0m\u001b[1;33m)\u001b[0m\u001b[1;33m\u001b[0m\u001b[1;33m\u001b[0m\u001b[0m\n\u001b[0m",
      "\u001b[1;32m<ipython-input-41-f7afc4286768>\u001b[0m in \u001b[0;36mblackjack\u001b[1;34m()\u001b[0m\n\u001b[0;32m     16\u001b[0m             \u001b[1;31m#print(type(dealer_hand))\u001b[0m\u001b[1;33m\u001b[0m\u001b[1;33m\u001b[0m\u001b[1;33m\u001b[0m\u001b[0m\n\u001b[0;32m     17\u001b[0m \u001b[1;33m\u001b[0m\u001b[0m\n\u001b[1;32m---> 18\u001b[1;33m             \u001b[0mhit_info\u001b[0m\u001b[1;33m(\u001b[0m\u001b[0mplayer_hand\u001b[0m\u001b[1;33m,\u001b[0m \u001b[0mdealer_hand\u001b[0m\u001b[1;33m)\u001b[0m\u001b[1;33m\u001b[0m\u001b[1;33m\u001b[0m\u001b[0m\n\u001b[0m\u001b[0;32m     19\u001b[0m             \u001b[0mprint\u001b[0m\u001b[1;33m(\u001b[0m\u001b[1;34m\"\\nWhat do you want to do? Type H to hit and S to stand\"\u001b[0m\u001b[1;33m)\u001b[0m\u001b[1;33m\u001b[0m\u001b[1;33m\u001b[0m\u001b[0m\n\u001b[0;32m     20\u001b[0m             \u001b[0muser_choice\u001b[0m \u001b[1;33m=\u001b[0m \u001b[0minput\u001b[0m\u001b[1;33m(\u001b[0m\u001b[1;33m)\u001b[0m\u001b[1;33m\u001b[0m\u001b[1;33m\u001b[0m\u001b[0m\n",
      "\u001b[1;32m<ipython-input-48-61f0d356bb28>\u001b[0m in \u001b[0;36mhit_info\u001b[1;34m(player_hand, dealer_hand)\u001b[0m\n\u001b[0;32m      2\u001b[0m     \u001b[0mprint\u001b[0m \u001b[1;33m(\u001b[0m\u001b[1;34m\"Your Hand: \"\u001b[0m\u001b[1;33m,\u001b[0m \u001b[0mstr\u001b[0m\u001b[1;33m(\u001b[0m\u001b[0mplayer_hand\u001b[0m\u001b[1;33m)\u001b[0m\u001b[1;33m,\u001b[0m \u001b[1;34m\", Total: \"\u001b[0m\u001b[1;33m,\u001b[0m \u001b[0mget_score\u001b[0m\u001b[1;33m(\u001b[0m\u001b[0mplayer_hand\u001b[0m\u001b[1;33m)\u001b[0m\u001b[1;33m,\u001b[0m \u001b[1;34m\"\\n\"\u001b[0m\u001b[1;33m)\u001b[0m\u001b[1;33m\u001b[0m\u001b[1;33m\u001b[0m\u001b[0m\n\u001b[0;32m      3\u001b[0m     \u001b[0mfirst_card\u001b[0m \u001b[1;33m=\u001b[0m \u001b[0mstr\u001b[0m\u001b[1;33m(\u001b[0m\u001b[0mdealer_hand\u001b[0m\u001b[1;33m[\u001b[0m\u001b[1;36m0\u001b[0m\u001b[1;33m]\u001b[0m\u001b[1;33m)\u001b[0m\u001b[1;33m\u001b[0m\u001b[1;33m\u001b[0m\u001b[0m\n\u001b[1;32m----> 4\u001b[1;33m     \u001b[0mdealer_list\u001b[0m \u001b[1;33m=\u001b[0m \u001b[0mlist\u001b[0m\u001b[1;33m(\u001b[0m\u001b[0mdealer_hand\u001b[0m\u001b[1;33m[\u001b[0m\u001b[1;36m0\u001b[0m\u001b[1;33m]\u001b[0m\u001b[1;33m)\u001b[0m\u001b[1;33m\u001b[0m\u001b[1;33m\u001b[0m\u001b[0m\n\u001b[0m\u001b[0;32m      5\u001b[0m     \u001b[0mprint\u001b[0m \u001b[1;33m(\u001b[0m\u001b[1;34m\"Dealer's first card: \"\u001b[0m\u001b[1;33m,\u001b[0m \u001b[0mstr\u001b[0m\u001b[1;33m(\u001b[0m\u001b[0mdealer_hand\u001b[0m\u001b[1;33m[\u001b[0m\u001b[1;36m0\u001b[0m\u001b[1;33m]\u001b[0m\u001b[1;33m)\u001b[0m\u001b[1;33m,\u001b[0m \u001b[1;34m\" , Total: \"\u001b[0m\u001b[1;33m,\u001b[0m \u001b[0mget_score\u001b[0m\u001b[1;33m(\u001b[0m\u001b[0mdealer_list\u001b[0m\u001b[1;33m)\u001b[0m\u001b[1;33m)\u001b[0m\u001b[1;33m\u001b[0m\u001b[1;33m\u001b[0m\u001b[0m\n",
      "\u001b[1;31mTypeError\u001b[0m: 'int' object is not iterable"
     ]
    }
   ],
   "source": [
    "blackjack()"
   ]
  },
  {
   "cell_type": "code",
   "execution_count": null,
   "metadata": {},
   "outputs": [],
   "source": []
  },
  {
   "cell_type": "code",
   "execution_count": null,
   "metadata": {},
   "outputs": [],
   "source": []
  }
 ],
 "metadata": {
  "kernelspec": {
   "display_name": "Python 3.8.0 32-bit",
   "language": "python",
   "name": "python38032bitf89af38f6aed4e70b8738a99152d0208"
  },
  "language_info": {
   "codemirror_mode": {
    "name": "ipython",
    "version": 3
   },
   "file_extension": ".py",
   "mimetype": "text/x-python",
   "name": "python",
   "nbconvert_exporter": "python",
   "pygments_lexer": "ipython3",
   "version": "3.8.0"
  }
 },
 "nbformat": 4,
 "nbformat_minor": 4
}
