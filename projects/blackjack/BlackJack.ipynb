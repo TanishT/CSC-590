{
 "cells": [
  {
   "cell_type": "code",
   "execution_count": 14,
   "metadata": {},
   "outputs": [
    {
     "data": {
      "text/plain": [
       "\"\\nplayer plays completely b4 dealer - player can only see 1 of dealer's cards\\nonce you stand, dealer revels second card --> if that total is <= 17, then the dealer will take another card\\nand then game will be over\\n\""
      ]
     },
     "execution_count": 14,
     "metadata": {},
     "output_type": "execute_result"
    }
   ],
   "source": [
    "\"\"\"\n",
    "player plays completely b4 dealer - player can only see 1 of dealer's cards\n",
    "once you stand, dealer revels second card --> if that total is <= 17, then the dealer will take another card\n",
    "and then game will be over\n",
    "\"\"\""
   ]
  },
  {
   "cell_type": "code",
   "execution_count": 15,
   "metadata": {},
   "outputs": [],
   "source": [
    "import random"
   ]
  },
  {
   "cell_type": "code",
   "execution_count": 16,
   "metadata": {},
   "outputs": [],
   "source": [
    "deck = [2, 3, 4, 5, 6, 7, 8, 9, 10, 11, 12, 13, 14] * 4"
   ]
  },
  {
   "cell_type": "code",
   "execution_count": 17,
   "metadata": {},
   "outputs": [],
   "source": [
    "def blackjack():\n",
    "    print(\"\\nWelcome to Blackjack!!!!\\n\")   \n",
    "    print(\"Here are your options: \\n\\t1. Type S to Start \\n\\t2. Type Q to quit\")\n",
    "    player_hand = deal(deck)\n",
    "    dealer_hand = deal(deck)\n",
    "    \n",
    "    user_choice = input()\n",
    "    if (user_choice == 'Q' or user_choice == 'q'):\n",
    "        print(\"Bye Bye!\")\n",
    "        return None\n",
    "    else:         \n",
    "        while True:\n",
    "            player_score = 0\n",
    "            dealer_score = 0\n",
    "            #print(player_hand)\n",
    "            #print(type(dealer_hand))\n",
    "            \n",
    "            hit_info(player_hand, dealer_hand)\n",
    "            print(\"\\nWhat do you want to do? Type H to hit and S to stand\")\n",
    "            user_choice = input()\n",
    "            \n",
    "            while (user_choice == 'H' or user_choice == 'h'):\n",
    "                hit(player_hand, dealer_hand)\n",
    "                if (get_score(player_hand) >= 21 or get_score(dealer_hand) >= 21):\n",
    "                    decide_winner(player_hand, dealer_hand)\n",
    "                    break\n",
    "                    \n",
    "            if (user_choice == 'S' or user_choice == 's'):\n",
    "                player_score, dealer_score = stand(player_hand, dealer_hand)\n",
    "                decide_winner(player_hand, dealer_hand)\n",
    "                break\n",
    "    \n",
    "#     if (winner == False):\n",
    "#         loses += 1\n",
    "#     else:\n",
    "#         wins += 1\n",
    "    \n",
    "    \n",
    "#     print (\"\\nWins: \" + wins)\n",
    "#     print(\"Loses: \" + loses)\n",
    "    \n",
    "    print(\"Do you want to play again? Type Y/N\")\n",
    "    play_again = input()\n",
    "    if (play_again == 'Y' or play_again == 'y'):\n",
    "        start_game_again()\n",
    "    elif (play_again == 'N' or play_again == 'n'):\n",
    "        print(\"Thanks for playing! Bye Bye!\")"
   ]
  },
  {
   "cell_type": "code",
   "execution_count": 18,
   "metadata": {},
   "outputs": [],
   "source": [
    "def deal(deck):\n",
    "    hand = []\n",
    "    for i in range(2):\n",
    "        random.shuffle(deck)\n",
    "        curr_card = deck.pop()\n",
    "        if curr_card == 11:\n",
    "            curr_card = \"J\"\n",
    "        if curr_card == 12:\n",
    "            curr_card = \"Q\"\n",
    "        if curr_card == 13:\n",
    "            curr_card = \"K\"\n",
    "        if curr_card == 14:\n",
    "            curr_card = \"A\"\n",
    "        hand.append(curr_card)\n",
    "    return hand"
   ]
  },
  {
   "cell_type": "code",
   "execution_count": 19,
   "metadata": {},
   "outputs": [],
   "source": [
    "def hit(player_hand, dealer_hand):\n",
    "    next_player_card = deck.pop()\n",
    "    #next_dealer_card = deck.pop()\n",
    "    #if (get_score(dealer_hand) + next_dealer_card <= 17):\n",
    "    #    dealer_hand.append(next_dealer_card)\n",
    "    player_hand.append(next_player_card)\n",
    "    hit_info(player_hand, dealer_hand)"
   ]
  },
  {
   "cell_type": "code",
   "execution_count": 20,
   "metadata": {},
   "outputs": [],
   "source": [
    "def stand(player_hand, dealer_hand):\n",
    "    next_card = deck.pop()\n",
    "    player_score = get_score(player_hand)\n",
    "    dealer_score = get_score(dealer_hand)\n",
    "    if (dealer_score <= 17):\n",
    "        dealer_hand.append(next_card)\n",
    "    return player_score, dealer_score"
   ]
  },
  {
   "cell_type": "code",
   "execution_count": 21,
   "metadata": {},
   "outputs": [],
   "source": [
    "def get_score(hand):\n",
    "    score = 0\n",
    "    for i in range(len(hand)):\n",
    "        if (hand[i] == 'J' or hand[i] == 'Q' or hand[i] == 'K'):\n",
    "            #face cards\n",
    "            score += 10\n",
    "        elif (hand[i] == 'A'):\n",
    "            if (score >= 11):\n",
    "                # 11 + 11 = 22 > 21, most logical move is to add 1\n",
    "                score += 1\n",
    "            else:\n",
    "                score += 11\n",
    "        else:\n",
    "            score += hand[i]\n",
    "    return score"
   ]
  },
  {
   "cell_type": "code",
   "execution_count": 22,
   "metadata": {},
   "outputs": [],
   "source": [
    "def decide_winner(player_hand, dealer_hand):    \n",
    "    player_score = get_score(player_hand)\n",
    "    dealer_score = get_score(dealer_hand)\n",
    "    print_scores(player_hand, dealer_hand)\n",
    "    \n",
    "    if (player_score == 21):\n",
    "        print (\"Congratulations! You have gotten  a Blackjack!\\n\")\n",
    "    elif (dealer_score == 21):\n",
    "        print (\"Sorry, you lose. The dealer got a blackjack. F \\n\")\n",
    "    elif (player_score > 21):\n",
    "        print (\"Bust. You lose. F\\n\")\n",
    "    elif (dealer_score > 21):\n",
    "        print (\"Dealer has busted. You win!\\n\")\n",
    "    elif (player_score < dealer_score):\n",
    "        print (\"Dealer score is higher than your. You lose. F \\n\")\n",
    "    elif (player_score > dealer_score):\n",
    "        print (\"Congratulations! Your score is higher than the dealer. You win!\\n\")"
   ]
  },
  {
   "cell_type": "code",
   "execution_count": 23,
   "metadata": {},
   "outputs": [],
   "source": [
    "def print_scores(player_hand, dealer_hand):\n",
    "    print (\"\\nDealer Hand: \", str(dealer_hand), \", Total: \", get_score(dealer_hand))\n",
    "    print (\"Your Hand: \", str(player_hand), \", Total: \", get_score(player_hand), \"\\n\")"
   ]
  },
  {
   "cell_type": "code",
   "execution_count": 24,
   "metadata": {},
   "outputs": [],
   "source": [
    "def hit_info(player_hand, dealer_hand):\n",
    "    print (\"Your Hand: \", str(player_hand), \", Total: \", get_score(player_hand), \"\\n\")\n",
    "    first_card = str(dealer_hand[0])\n",
    "    dealer_list = list(dealer_hand[0])\n",
    "    print (\"Dealer's first card: \", str(dealer_hand[0]), \" , Total: \", get_score(dealer_list))"
   ]
  },
  {
   "cell_type": "code",
   "execution_count": 25,
   "metadata": {},
   "outputs": [],
   "source": [
    "def start_game_again():\n",
    "    deck = [2, 3, 4, 5, 6, 7, 8, 9, 10, 11, 12, 13, 14] * 4\n",
    "    blackjack()"
   ]
  },
  {
   "cell_type": "code",
   "execution_count": null,
   "metadata": {
    "scrolled": false
   },
   "outputs": [
    {
     "name": "stdout",
     "output_type": "stream",
     "text": [
      "\n",
      "Welcome to Blackjack!!!!\n",
      "\n",
      "Here are your options: \n",
      "\t1. Type S to Start \n",
      "\t2. Type Q to quit\n",
      "S\n",
      "Your Hand:  ['J', 9] , Total:  19 \n",
      "\n",
      "Dealer's first card:  A  , Total:  11\n",
      "\n",
      "What do you want to do? Type H to hit and S to stand\n",
      "H\n",
      "Your Hand:  ['J', 9, 11] , Total:  30 \n",
      "\n",
      "Dealer's first card:  A  , Total:  11\n",
      "\n",
      "Dealer Hand:  ['A', 'K'] , Total:  21\n",
      "Your Hand:  ['J', 9, 11] , Total:  30 \n",
      "\n",
      "Sorry, you lose. The dealer got a blackjack. F \n",
      "\n",
      "Your Hand:  ['J', 9, 11] , Total:  30 \n",
      "\n",
      "Dealer's first card:  A  , Total:  11\n",
      "\n",
      "What do you want to do? Type H to hit and S to stand\n"
     ]
    }
   ],
   "source": [
    "blackjack()"
   ]
  },
  {
   "cell_type": "code",
   "execution_count": null,
   "metadata": {},
   "outputs": [],
   "source": []
  },
  {
   "cell_type": "code",
   "execution_count": null,
   "metadata": {},
   "outputs": [],
   "source": []
  }
 ],
 "metadata": {
  "kernelspec": {
   "display_name": "Python 3.8.0 32-bit",
   "language": "python",
   "name": "python38032bitf89af38f6aed4e70b8738a99152d0208"
  },
  "language_info": {
   "codemirror_mode": {
    "name": "ipython",
    "version": 3
   },
   "file_extension": ".py",
   "mimetype": "text/x-python",
   "name": "python",
   "nbconvert_exporter": "python",
   "pygments_lexer": "ipython3",
   "version": "3.8.0"
  }
 },
 "nbformat": 4,
 "nbformat_minor": 4
}
