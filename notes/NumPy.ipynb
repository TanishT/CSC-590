{
 "cells": [
  {
   "cell_type": "code",
   "execution_count": 11,
   "metadata": {},
   "outputs": [],
   "source": [
    "import numpy as np\n",
    "import random"
   ]
  },
  {
   "cell_type": "code",
   "execution_count": 12,
   "metadata": {},
   "outputs": [],
   "source": [
    "height = np.array([1.87, 1.87, 1.82, 1.91, 1.90, 1.85])\n",
    "weight = np.array([81.65, 97.52, 95.25, 92.98, 86.18, 88.45])"
   ]
  },
  {
   "cell_type": "code",
   "execution_count": 16,
   "metadata": {},
   "outputs": [
    {
     "name": "stdout",
     "output_type": "stream",
     "text": [
      "[34 20 63 61 25 33 19  7 59 47]\n"
     ]
    }
   ],
   "source": [
    "rand = np.random.randint(0,100, 10) #generates 10 nums btwn. 0 and 100\n",
    "print(rand)"
   ]
  },
  {
   "cell_type": "code",
   "execution_count": 18,
   "metadata": {},
   "outputs": [
    {
     "name": "stdout",
     "output_type": "stream",
     "text": [
      "[1.91 1.87 1.85]\n",
      "[81.65 86.18 88.45 92.98 95.25 97.52]\n"
     ]
    }
   ],
   "source": [
    "print(np.sort(height)[::-1]) #sorts and then reverses\n",
    "print(np.sort(weight))"
   ]
  }
 ],
 "metadata": {
  "kernelspec": {
   "display_name": "Python 3.8.0 32-bit",
   "language": "python",
   "name": "python38032bitf89af38f6aed4e70b8738a99152d0208"
  },
  "language_info": {
   "codemirror_mode": {
    "name": "ipython",
    "version": 3
   },
   "file_extension": ".py",
   "mimetype": "text/x-python",
   "name": "python",
   "nbconvert_exporter": "python",
   "pygments_lexer": "ipython3",
   "version": "3.8.0"
  }
 },
 "nbformat": 4,
 "nbformat_minor": 4
}
