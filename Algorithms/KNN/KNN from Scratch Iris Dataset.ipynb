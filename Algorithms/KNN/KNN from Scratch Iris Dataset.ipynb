{
 "cells": [
  {
   "cell_type": "code",
   "execution_count": 4,
   "metadata": {},
   "outputs": [],
   "source": [
    "import math\n",
    "import pandas as pd\n",
    "import random\n",
    "import matplotlib.pyplot as plt\n",
    "from matplotlib.colors import ListedColormap\n",
    "from sklearn import neighbors"
   ]
  },
  {
   "cell_type": "code",
   "execution_count": 2,
   "metadata": {},
   "outputs": [],
   "source": [
    "def calc_euclidean_distance(row1, row2):\n",
    "    if (len(row1) != len(row2)):\n",
    "        raise Exception(\"Something is wrong with your data! Both rows are not the same size\")\n",
    "    distance = 0.0\n",
    "    for i in range(len(row1)-1):\n",
    "        # assume that last row is value we want to predict\n",
    "        # use for loop so that we can scale for higher dimensions as well\n",
    "        distance = distance + (row1[i] - row2[i]) ** 2\n",
    "    return math.sqrt(distance)"
   ]
  },
  {
   "cell_type": "code",
   "execution_count": 3,
   "metadata": {},
   "outputs": [],
   "source": [
    "def get_most_similar_neighbors(train, test, k):\n",
    "    distances = []\n",
    "    for row in train:\n",
    "        curr_dist = calc_euclidean_distance(row, test)\n",
    "        distances.append((row, curr_dist))\n",
    "    distances.sort(key = lambda x : x[1]) #sorting by distance\n",
    "    neighbors = []\n",
    "    for i in range(k):\n",
    "        neighbors.append(distances[i][0])\n",
    "    return neighbors"
   ]
  },
  {
   "cell_type": "code",
   "execution_count": 4,
   "metadata": {},
   "outputs": [],
   "source": [
    "def make_prediction(train, test, k):\n",
    "    neighbors = get_most_similar_neighbors(train, test, k)\n",
    "    last_row = [curr[len(curr)-1] for curr in neighbors]\n",
    "    model_prediction = max(set(last_row), key=last_row.count)\n",
    "    return model_prediction"
   ]
  },
  {
   "cell_type": "code",
   "execution_count": 5,
   "metadata": {},
   "outputs": [],
   "source": [
    "def str_column_to_int(dataset, column):\n",
    "    class_values = [row[column] for row in dataset]\n",
    "    unique = set(class_values)\n",
    "    lookup = dict()\n",
    "    for i, value in enumerate(unique):\n",
    "        lookup[value] = i\n",
    "        print('[{}] ==> {}'.format(value, i)) #PRINT MAPPINGS \n",
    "        #print(lookup[value])\n",
    "    for row in dataset:\n",
    "        row[column] = int(lookup[row[column]])\n",
    "    return lookup\n",
    "\n",
    "def str_column_to_float(dataset, column):\n",
    "    for row in dataset:\n",
    "        if (type(row[column]) == str):\n",
    "            row[column] = int(row[column])"
   ]
  },
  {
   "cell_type": "code",
   "execution_count": 6,
   "metadata": {},
   "outputs": [],
   "source": [
    "def accuracy_metric(actual, predicted):\n",
    "    correct = 0\n",
    "    for i in range(len(actual)):\n",
    "        if actual[i] == predicted[i]:\n",
    "            correct += 1\n",
    "    return correct / float(len(actual)) * 100.0"
   ]
  },
  {
   "cell_type": "code",
   "execution_count": 7,
   "metadata": {},
   "outputs": [],
   "source": [
    "## Model Evaluation Loop\n",
    "def cross_validation_split(dataset, n_folds):\n",
    "    split = list()\n",
    "    copy = list(dataset)\n",
    "    fold_size = int(len(dataset) / n_folds)\n",
    "    for i in range(n_folds):\n",
    "        fold = list()\n",
    "        while len(fold) < fold_size:\n",
    "            index = random.randrange(len(copy))\n",
    "            fold.append(copy.pop(index))\n",
    "        split.append(fold)\n",
    "    return split\n",
    "\n",
    "def evaluate_algorithm(dataset, n_folds, K):\n",
    "    folds = cross_validation_split(dataset, n_folds)\n",
    "    scores = list()\n",
    "    \n",
    "    for fold in folds:\n",
    "        train = list(folds)\n",
    "        train.remove(fold)\n",
    "        train = sum(train, [])\n",
    "        test = list()\n",
    "        \n",
    "        for row in fold:\n",
    "            row_copy = list(row)\n",
    "            test.append(row_copy)\n",
    "        #print(train)\n",
    "        #print(\"\\n\", test, \" \", len(test), \" \", test[1])\n",
    "        \n",
    "        predicted = []\n",
    "        for i in range(len(test)):\n",
    "            curr_prediction = make_prediction(train, test[i], K)\n",
    "            #print(curr_prediction)\n",
    "            predicted.append(curr_prediction)\n",
    "            \n",
    "        actual = [row[-1] for row in fold]\n",
    "        #print(predicted)\n",
    "        #print(actual)\n",
    "        \n",
    "        accuracy = accuracy_metric(actual, predicted)\n",
    "        \n",
    "        scores.append(accuracy)\n",
    "    return scores"
   ]
  },
  {
   "cell_type": "code",
   "execution_count": null,
   "metadata": {},
   "outputs": [],
   "source": [
    "def plot():\n",
    "    cmap_light = ListedColormap(['#FFAAAA', '#AAFFAA','#00AAFF'])\n",
    "    cmap_bold = ListedColormap(['#FF0000', '#00FF00','#00AAFF'])"
   ]
  },
  {
   "cell_type": "code",
   "execution_count": 8,
   "metadata": {},
   "outputs": [
    {
     "name": "stdout",
     "output_type": "stream",
     "text": [
      "[Iris-setosa] ==> 0\n",
      "[Iris-virginica] ==> 1\n",
      "[Iris-versicolor] ==> 2\n",
      "[Iris-setosa] ==> 0\n",
      "[Iris-virginica] ==> 1\n",
      "[Iris-versicolor] ==> 2\n",
      "Scores: [95.23809523809523, 100.0, 95.23809523809523, 100.0, 95.23809523809523]\n",
      "Mean Accuracy: 97.143%\n"
     ]
    }
   ],
   "source": [
    "def KNN_IRIS():\n",
    "    dataset = pd.read_csv('iris.csv')\n",
    "    test = pd.read_csv('iris_test.csv')\n",
    "    \n",
    "    dataset = dataset.values.tolist()\n",
    "    test = test.values.tolist()\n",
    "\n",
    "    str_column_to_int(dataset, len(dataset[0])-1)\n",
    "    str_column_to_int(test, len(test[0])-1)\n",
    "    \n",
    "    answers = ['Iris-virginica', 'Iris-setosa', 'Iris-versicolor']\n",
    "    \n",
    "    #print(dataset)\n",
    "    \n",
    "    for i in range(len(dataset[0])):\n",
    "        str_column_to_float(dataset, i)\n",
    "        str_column_to_float(test, i)\n",
    "    \n",
    "\n",
    "    K = 9\n",
    "    n_folds = 5\n",
    "    scores = evaluate_algorithm(dataset, n_folds, K)\n",
    "    print('Scores: %s' % scores)\n",
    "    print('Mean Accuracy: %.3f%%' % (sum(scores)/float(len(scores))))\n",
    "    \n",
    "    \n",
    "#     right = 0\n",
    "#     wrong = 0\n",
    "#     x = 1\n",
    "#     for x in range(len(test)):\n",
    "#         curr_prediction = make_prediction(dataset, test[x], K)\n",
    "#         print(\"Prediction: \", answers[curr_prediction], \" , Actual: \", answers[test[x][4]])\n",
    "#         if (answers[curr_prediction] == answers[test[x][4]]):\n",
    "#             right += 1\n",
    "#         else:\n",
    "#             wrong += 1\n",
    "#         x += 1\n",
    "        \n",
    "#     print(right / (right + wrong))\n",
    "\n",
    "KNN_IRIS()"
   ]
  },
  {
   "cell_type": "code",
   "execution_count": null,
   "metadata": {},
   "outputs": [],
   "source": []
  }
 ],
 "metadata": {
  "kernelspec": {
   "display_name": "Python 3.8.0 32-bit",
   "language": "python",
   "name": "python38032bitf89af38f6aed4e70b8738a99152d0208"
  },
  "language_info": {
   "codemirror_mode": {
    "name": "ipython",
    "version": 3
   },
   "file_extension": ".py",
   "mimetype": "text/x-python",
   "name": "python",
   "nbconvert_exporter": "python",
   "pygments_lexer": "ipython3",
   "version": "3.8.0"
  }
 },
 "nbformat": 4,
 "nbformat_minor": 4
}
