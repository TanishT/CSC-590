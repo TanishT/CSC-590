{
 "cells": [
  {
   "cell_type": "code",
   "execution_count": 5,
   "metadata": {},
   "outputs": [],
   "source": [
    "import math"
   ]
  },
  {
   "cell_type": "code",
   "execution_count": 8,
   "metadata": {},
   "outputs": [],
   "source": [
    "def calc_euclidean_distance(row1, row2):\n",
    "    if (len(row1) != len(row2)):\n",
    "        raise Exception(\"Something is wrong with your data! Both rows are not the same size\")\n",
    "    distance = 0.0\n",
    "    for i in range(len(row1)-1):\n",
    "        # assume that last row is value we want to predict\n",
    "        # use for loop so that we can scale for higher dimensions as well\n",
    "        distance = distance + (row1[i] - row2[i]) ** 2\n",
    "    return math.sqrt(distance)"
   ]
  },
  {
   "cell_type": "code",
   "execution_count": 12,
   "metadata": {},
   "outputs": [],
   "source": [
    "def get_most_similar_neighbors(train, test, k):\n",
    "    distances = []\n",
    "    for row in train:\n",
    "        curr_dist = calc_euclidean_distance(row, test)\n",
    "        distances.append((row, curr_dist))\n",
    "    distances.sort(key = lambda x : x[1]) #sorting by distance\n",
    "    neighbors = []\n",
    "    for i in range(k):\n",
    "        neighbors.append(distances[i][0])\n",
    "    return neighbors"
   ]
  },
  {
   "cell_type": "code",
   "execution_count": 13,
   "metadata": {},
   "outputs": [
    {
     "name": "stdout",
     "output_type": "stream",
     "text": [
      "[2.7810836, 2.550537003, 0]\n",
      "[3.06407232, 3.005305973, 0]\n",
      "[1.465489372, 2.362125076, 0]\n"
     ]
    }
   ],
   "source": [
    "def test():\n",
    "    dataset = [[2.7810836,2.550537003,0],\n",
    "        [1.465489372,2.362125076,0],\n",
    "        [3.396561688,4.400293529,0],\n",
    "        [1.38807019,1.850220317,0],\n",
    "        [3.06407232,3.005305973,0],\n",
    "        [7.627531214,2.759262235,1],\n",
    "        [5.332441248,2.088626775,1],\n",
    "        [6.922596716,1.77106367,1],\n",
    "        [8.675418651,-0.242068655,1],\n",
    "        [7.673756466,3.508563011,1]]\n",
    "\n",
    "#     row0 = dataset[0]\n",
    "#     for row in dataset:\n",
    "#         distance = calc_euclidean_distance(row0, row)\n",
    "#         print(distance)\n",
    "\n",
    "    neighbors = get_most_similar_neighbors(dataset, dataset[0], 3)\n",
    "    for neighbor in neighbors:\n",
    "        print(neighbor)\n",
    "\n",
    "test()"
   ]
  },
  {
   "cell_type": "code",
   "execution_count": null,
   "metadata": {},
   "outputs": [],
   "source": []
  }
 ],
 "metadata": {
  "kernelspec": {
   "display_name": "Python 3.8.0 32-bit",
   "language": "python",
   "name": "python38032bitf89af38f6aed4e70b8738a99152d0208"
  },
  "language_info": {
   "codemirror_mode": {
    "name": "ipython",
    "version": 3
   },
   "file_extension": ".py",
   "mimetype": "text/x-python",
   "name": "python",
   "nbconvert_exporter": "python",
   "pygments_lexer": "ipython3",
   "version": "3.8.0"
  }
 },
 "nbformat": 4,
 "nbformat_minor": 4
}
