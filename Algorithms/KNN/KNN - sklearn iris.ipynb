{
 "cells": [
  {
   "cell_type": "code",
   "execution_count": 44,
   "metadata": {},
   "outputs": [],
   "source": [
    "import pandas as pd\n",
    "import sklearn\n",
    "from sklearn.utils import shuffle\n",
    "from sklearn.neighbors import KNeighborsClassifier\n",
    "import numpy as numpy\n",
    "from sklearn import linear_model, preprocessing\n",
    "import matplotlib.pyplot as plt\n",
    "import matplotlib.pyplot as plt\n",
    "from matplotlib.colors import ListedColormap\n",
    "from sklearn.datasets import load_iris\n",
    "import numpy as np"
   ]
  },
  {
   "cell_type": "code",
   "execution_count": 45,
   "metadata": {},
   "outputs": [],
   "source": [
    "data = load_iris()"
   ]
  },
  {
   "cell_type": "code",
   "execution_count": 49,
   "metadata": {},
   "outputs": [],
   "source": [
    "# le = preprocessing.LabelEncoder()\n",
    "\n",
    "# sepal_length = list(data[\"sepal_length\"])\n",
    "# sepal_width = list(data[\"sepal_width\"])\n",
    "# petal_length = list(data[\"petal_length\"])\n",
    "# petal_width = list(data[\"petal_width\"])\n",
    "# cls = le.fit_transform(list(data[\"class\"]))"
   ]
  },
  {
   "cell_type": "code",
   "execution_count": 48,
   "metadata": {},
   "outputs": [
    {
     "name": "stdout",
     "output_type": "stream",
     "text": [
      "[0 0 0 0 0 0 0 0 0 0 0 0 0 0 0 0 0 0 0 0 0 0 0 0 0 0 0 0 0 0 0 0 0 0 0 0 0\n",
      " 0 0 0 0 0 0 0 0 0 0 0 0 0 1 1 1 1 1 1 1 1 1 1 1 1 1 1 1 1 1 1 1 1 1 1 1 1\n",
      " 1 1 1 1 1 1 1 1 1 1 1 1 1 1 1 1 1 1 1 1 1 1 1 1 1 1 2 2 2 2 2 2 2 2 2 2 2\n",
      " 2 2 2 2 2 2 2 2 2 2 2 2 2 2 2 2 2 2 2 2 2 2 2 2 2 2 2 2 2 2 2 2 2 2 2 2 2\n",
      " 2 2]\n"
     ]
    }
   ],
   "source": [
    "X = data.data\n",
    "y = data.target\n",
    "print(y)"
   ]
  },
  {
   "cell_type": "code",
   "execution_count": 50,
   "metadata": {},
   "outputs": [
    {
     "name": "stdout",
     "output_type": "stream",
     "text": [
      "1.0\n"
     ]
    }
   ],
   "source": [
    "x_train, x_test, y_train, y_test = sklearn.model_selection.train_test_split(X, y, test_size = 0.05)\n",
    "\n",
    "model = KNeighborsClassifier(n_neighbors=9)\n",
    "\n",
    "model.fit(x_train, y_train)\n",
    "acc = model.score(x_test, y_test)\n",
    "print(acc)"
   ]
  },
  {
   "cell_type": "code",
   "execution_count": 51,
   "metadata": {
    "scrolled": true
   },
   "outputs": [
    {
     "name": "stdout",
     "output_type": "stream",
     "text": [
      "Predicted:  Iris-setosa , Data:  [5.6 2.5 3.9 1.1] Actual:  Iris-setosa\n",
      "Predicted:  Iris-versicolor , Data:  [6.5 3.  5.2 2. ] Actual:  Iris-versicolor\n",
      "Predicted:  Iris-setosa , Data:  [6.3 3.3 4.7 1.6] Actual:  Iris-setosa\n",
      "Predicted:  Iris-virginica , Data:  [5.  3.6 1.4 0.2] Actual:  Iris-virginica\n",
      "Predicted:  Iris-setosa , Data:  [4.9 2.4 3.3 1. ] Actual:  Iris-setosa\n",
      "Predicted:  Iris-versicolor , Data:  [6.3 2.7 4.9 1.8] Actual:  Iris-versicolor\n",
      "Predicted:  Iris-virginica , Data:  [5.2 4.1 1.5 0.1] Actual:  Iris-virginica\n",
      "Predicted:  Iris-virginica , Data:  [5.1 3.8 1.5 0.3] Actual:  Iris-virginica\n"
     ]
    }
   ],
   "source": [
    "predicted = model.predict(x_test)\n",
    "\n",
    "names = ['Iris-virginica', 'Iris-setosa', 'Iris-versicolor']\n",
    "\n",
    "for x in range(len(predicted)):\n",
    "    print(\"Predicted: \", names[predicted[x]], \", Data: \", x_test[x], \"Actual: \", names[y_test[x]])"
   ]
  },
  {
   "cell_type": "code",
   "execution_count": 33,
   "metadata": {},
   "outputs": [
    {
     "name": "stdout",
     "output_type": "stream",
     "text": [
      "(150, 2)\n",
      "(150,)\n",
      "(220, 280)\n",
      "(220, 280)\n",
      "[1 1 1 ... 2 2 2]\n",
      "61600\n",
      "(61600, 2)\n"
     ]
    },
    {
     "data": {
      "image/png": "[encoded data removed]",
      "text/plain": [
       "<Figure size 432x288 with 1 Axes>"
      ]
     },
     "metadata": {
      "needs_background": "light"
     },
     "output_type": "display_data"
    }
   ],
   "source": [
    "import pandas as pd\n",
    "import sklearn\n",
    "from sklearn.utils import shuffle\n",
    "from sklearn.neighbors import KNeighborsClassifier\n",
    "import numpy as numpy\n",
    "from sklearn import linear_model, preprocessing\n",
    "import matplotlib.pyplot as plt\n",
    "import matplotlib.pyplot as plt\n",
    "from matplotlib.colors import ListedColormap\n",
    "from sklearn.datasets import load_iris\n",
    "import numpy as np\n",
    "n_neighbors = 6\n",
    "\n",
    "# import some data to play with\n",
    "iris = load_iris()\n",
    "\n",
    "# prepare data\n",
    "X = iris.data[:, :2]\n",
    "y = iris.target\n",
    "h = .02\n",
    "\n",
    "print(X.shape)\n",
    "print(y.shape)\n",
    "\n",
    "# Create color maps\n",
    "cmap_light = ListedColormap(['#FFAAAA', '#AAFFAA','#9bc2cf'])\n",
    "cmap_bold = ListedColormap(['#FF0000', '#00FF00','#00AAFF'])\n",
    "\n",
    "# we create an instance of Neighbours Classifier and fit the data.\n",
    "clf = KNeighborsClassifier(n_neighbors, weights='distance')\n",
    "clf.fit(X, y)\n",
    "\n",
    "# print(len(X)) 150\n",
    "# print(len(y)) 150\n",
    "\n",
    "# calculate min, max and limits\n",
    "x_min, x_max = X[:, 0].min() - 1, X[:, 0].max() + 1\n",
    "y_min, y_max = X[:, 1].min() - 1, X[:, 1].max() + 1\n",
    "xx, yy = np.meshgrid(np.arange(x_min, x_max, h),\n",
    "np.arange(y_min, y_max, h))\n",
    "\n",
    "print(xx.shape)\n",
    "print(yy.shape)\n",
    "\n",
    "# predict class using data and kNN classifier\n",
    "Z = clf.predict(np.c_[xx.ravel(), yy.ravel()])\n",
    "print(Z)\n",
    "print(len(Z))\n",
    "print(np.c_[xx.ravel(), yy.ravel()].shape)\n",
    "\n",
    "# Put the result into a color plot\n",
    "Z = Z.reshape(xx.shape)\n",
    "plt.figure()\n",
    "plt.pcolormesh(xx, yy, Z, cmap=cmap_light)\n",
    "\n",
    "# Plot also the training points\n",
    "plt.scatter(X[:, 0], X[:, 1], c=y, cmap=cmap_bold)\n",
    "plt.xlim(xx.min(), xx.max())\n",
    "plt.ylim(yy.min(), yy.max())\n",
    "plt.title(\"3-Class classification (k = %i)\" % (n_neighbors))\n",
    "plt.show()"
   ]
  },
  {
   "cell_type": "code",
   "execution_count": null,
   "metadata": {},
   "outputs": [],
   "source": []
  }
 ],
 "metadata": {
  "kernelspec": {
   "display_name": "Python 3.8.0 32-bit",
   "language": "python",
   "name": "python38032bitf89af38f6aed4e70b8738a99152d0208"
  },
  "language_info": {
   "codemirror_mode": {
    "name": "ipython",
    "version": 3
   },
   "file_extension": ".py",
   "mimetype": "text/x-python",
   "name": "python",
   "nbconvert_exporter": "python",
   "pygments_lexer": "ipython3",
   "version": "3.8.0"
  }
 },
 "nbformat": 4,
 "nbformat_minor": 4
}
