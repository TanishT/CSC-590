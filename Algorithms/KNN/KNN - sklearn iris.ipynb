{
 "cells": [
  {
   "cell_type": "code",
   "execution_count": 1,
   "metadata": {},
   "outputs": [],
   "source": [
    "import pandas as pd\n",
    "import sklearn\n",
    "from sklearn.utils import shuffle\n",
    "from sklearn.neighbors import KNeighborsClassifier\n",
    "import numpy as numpy\n",
    "from sklearn import linear_model, preprocessing"
   ]
  },
  {
   "cell_type": "code",
   "execution_count": 2,
   "metadata": {},
   "outputs": [],
   "source": [
    "data = pd.read_csv(\"iris.csv\")"
   ]
  },
  {
   "cell_type": "code",
   "execution_count": 5,
   "metadata": {},
   "outputs": [],
   "source": [
    "le = preprocessing.LabelEncoder()\n",
    "\n",
    "sepal_length = le.fit_transform(list(data[\"sepal_length\"]))\n",
    "sepal_width = le.fit_transform(list(data[\"sepal_width\"]))\n",
    "petal_length = le.fit_transform(list(data[\"petal_length\"]))\n",
    "petal_width = le.fit_transform(list(data[\"petal_width\"]))\n",
    "cls = le.fit_transform(list(data[\"class\"]))"
   ]
  },
  {
   "cell_type": "code",
   "execution_count": 6,
   "metadata": {},
   "outputs": [],
   "source": [
    "X = list(zip(sepal_length, sepal_width, petal_length, petal_width))\n",
    "y = list(cls)"
   ]
  },
  {
   "cell_type": "code",
   "execution_count": 9,
   "metadata": {},
   "outputs": [
    {
     "name": "stdout",
     "output_type": "stream",
     "text": [
      "1.0\n"
     ]
    }
   ],
   "source": [
    "x_train, x_test, y_train, y_test = sklearn.model_selection.train_test_split(X, y, test_size = 0.1)\n",
    "\n",
    "model = KNeighborsClassifier(n_neighbors=11)\n",
    "\n",
    "model.fit(x_train, y_train)\n",
    "acc = model.score(x_test, y_test)\n",
    "print(acc)"
   ]
  },
  {
   "cell_type": "code",
   "execution_count": 11,
   "metadata": {
    "scrolled": true
   },
   "outputs": [
    {
     "name": "stdout",
     "output_type": "stream",
     "text": [
      "Predicted:  Iris-versicolor , Data:  (20, 4, 26, 15) Actual:  Iris-versicolor\n",
      "Predicted:  Iris-virginica , Data:  (10, 16, 5, 1) Actual:  Iris-virginica\n",
      "Predicted:  Iris-versicolor , Data:  (33, 7, 41, 16) Actual:  Iris-versicolor\n",
      "Predicted:  Iris-virginica , Data:  (3, 10, 5, 1) Actual:  Iris-virginica\n",
      "Predicted:  Iris-setosa , Data:  (19, 1, 21, 11) Actual:  Iris-setosa\n",
      "Predicted:  Iris-setosa , Data:  (22, 7, 22, 11) Actual:  Iris-setosa\n",
      "Predicted:  Iris-virginica , Data:  (8, 17, 5, 2) Actual:  Iris-virginica\n",
      "Predicted:  Iris-versicolor , Data:  (33, 9, 37, 19) Actual:  Iris-versicolor\n",
      "Predicted:  Iris-versicolor , Data:  (26, 10, 30, 17) Actual:  Iris-versicolor\n",
      "Predicted:  Iris-virginica , Data:  (15, 19, 2, 1) Actual:  Iris-virginica\n",
      "Predicted:  Iris-virginica , Data:  (14, 17, 7, 2) Actual:  Iris-virginica\n",
      "Predicted:  Iris-virginica , Data:  (7, 12, 4, 1) Actual:  Iris-virginica\n",
      "Predicted:  Iris-setosa , Data:  (9, 6, 15, 10) Actual:  Iris-setosa\n",
      "Predicted:  Iris-virginica , Data:  (9, 13, 4, 1) Actual:  Iris-virginica\n",
      "Predicted:  Iris-versicolor , Data:  (20, 7, 27, 11) Actual:  Iris-versicolor\n"
     ]
    }
   ],
   "source": [
    "predicted = model.predict(x_test)\n",
    "\n",
    "names = ['Iris-virginica', 'Iris-setosa', 'Iris-versicolor']\n",
    "\n",
    "for x in range(len(predicted)):\n",
    "    print(\"Predicted: \", names[predicted[x]], \", Data: \", x_test[x], \"Actual: \", names[y_test[x]])"
   ]
  },
  {
   "cell_type": "code",
   "execution_count": null,
   "metadata": {},
   "outputs": [],
   "source": []
  }
 ],
 "metadata": {
  "kernelspec": {
   "display_name": "Python 3.8.0 32-bit",
   "language": "python",
   "name": "python38032bitf89af38f6aed4e70b8738a99152d0208"
  },
  "language_info": {
   "codemirror_mode": {
    "name": "ipython",
    "version": 3
   },
   "file_extension": ".py",
   "mimetype": "text/x-python",
   "name": "python",
   "nbconvert_exporter": "python",
   "pygments_lexer": "ipython3",
   "version": "3.8.0"
  }
 },
 "nbformat": 4,
 "nbformat_minor": 4
}
