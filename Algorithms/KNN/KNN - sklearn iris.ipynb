{
 "cells": [
  {
   "cell_type": "code",
   "execution_count": 2,
   "metadata": {},
   "outputs": [],
   "source": [
    "import pandas as pd\n",
    "import sklearn\n",
    "from sklearn.utils import shuffle\n",
    "from sklearn.neighbors import KNeighborsClassifier\n",
    "import numpy as numpy\n",
    "from sklearn import linear_model, preprocessing\n",
    "import matplotlib.pyplot as plt"
   ]
  },
  {
   "cell_type": "code",
   "execution_count": 3,
   "metadata": {},
   "outputs": [],
   "source": [
    "data = pd.read_csv(\"iris.csv\")"
   ]
  },
  {
   "cell_type": "code",
   "execution_count": 4,
   "metadata": {},
   "outputs": [],
   "source": [
    "le = preprocessing.LabelEncoder()\n",
    "\n",
    "sepal_length = le.fit_transform(list(data[\"sepal_length\"]))\n",
    "sepal_width = le.fit_transform(list(data[\"sepal_width\"]))\n",
    "petal_length = le.fit_transform(list(data[\"petal_length\"]))\n",
    "petal_width = le.fit_transform(list(data[\"petal_width\"]))\n",
    "cls = le.fit_transform(list(data[\"class\"]))"
   ]
  },
  {
   "cell_type": "code",
   "execution_count": 5,
   "metadata": {},
   "outputs": [],
   "source": [
    "X = list(zip(sepal_length, sepal_width, petal_length, petal_width))\n",
    "y = list(cls)"
   ]
  },
  {
   "cell_type": "code",
   "execution_count": 9,
   "metadata": {},
   "outputs": [
    {
     "name": "stdout",
     "output_type": "stream",
     "text": [
      "[(7, 14, 3, 1), (5, 9, 3, 1), (7, 14, 3, 2), (13, 17, 6, 2), (7, 17, 4, 2), (10, 13, 6, 1), (7, 16, 4, 3), (2, 15, 0, 1), (7, 12, 6, 4), (4, 13, 7, 1), (6, 9, 5, 1), (6, 13, 5, 3), (8, 14, 4, 1), (8, 13, 3, 1), (3, 11, 5, 1), (4, 10, 5, 1), (10, 13, 4, 3), (8, 18, 4, 0), (11, 19, 3, 1), (5, 10, 4, 0), (6, 11, 1, 1), (11, 14, 2, 1), (5, 10, 4, 0), (0, 9, 2, 1), (7, 13, 4, 1), (6, 14, 2, 2), (1, 2, 2, 2), (0, 11, 2, 1), (6, 14, 5, 5), (7, 17, 7, 3), (4, 9, 3, 2), (7, 17, 5, 1), (2, 11, 3, 1), (9, 16, 4, 1), (6, 12, 3, 1), (26, 11, 21, 10), (20, 11, 19, 11), (25, 10, 23, 11), (11, 2, 14, 9), (21, 7, 20, 11), (13, 7, 19, 9), (19, 12, 21, 12), (5, 3, 9, 6), (22, 8, 20, 9), (8, 6, 13, 10), (6, 0, 10, 6), (15, 9, 16, 11), (16, 1, 14, 6), (17, 8, 21, 10), (16, 8, 19, 11), (13, 5, 10, 6), (11, 3, 12, 7), (11, 3, 11, 6), (14, 6, 13, 8), (16, 6, 25, 12), (10, 9, 19, 11), (16, 13, 19, 12), (23, 10, 21, 11), (19, 2, 18, 9), (12, 9, 15, 9), (11, 4, 14, 9), (11, 5, 18, 8), (17, 9, 20, 10), (14, 5, 14, 8), (6, 2, 9, 6), (12, 6, 16, 9), (13, 9, 16, 8), (13, 8, 16, 9), (18, 8, 17, 9), (7, 4, 8, 7), (13, 7, 15, 9), (19, 12, 34, 21), (14, 6, 25, 15), (27, 9, 33, 17), (19, 8, 30, 14), (21, 9, 32, 18), (30, 9, 37, 17), (5, 4, 19, 13), (29, 8, 36, 14), (23, 4, 32, 14), (28, 15, 35, 21), (21, 11, 25, 16), (20, 6, 27, 15), (24, 9, 29, 17), (13, 4, 24, 16), (14, 7, 25, 20), (20, 11, 27, 19), (21, 9, 29, 14), (31, 17, 38, 18), (31, 5, 39, 19), (16, 1, 24, 11), (25, 11, 31, 19), (12, 7, 23, 16), (31, 7, 38, 16), (19, 6, 23, 14), (23, 12, 31, 17), (28, 11, 34, 14), (18, 7, 22, 14), (17, 9, 23, 14), (20, 7, 30, 17), (28, 9, 32, 12), (19, 4, 24, 15), (21, 9, 26, 16), (18, 13, 28, 19), (15, 9, 25, 14)]\n"
     ]
    }
   ],
   "source": [
    "print(X)"
   ]
  },
  {
   "cell_type": "code",
   "execution_count": 8,
   "metadata": {},
   "outputs": [
    {
     "ename": "ValueError",
     "evalue": "x and y must be the same size",
     "output_type": "error",
     "traceback": [
      "\u001b[1;31m---------------------------------------------------------------------------\u001b[0m",
      "\u001b[1;31mValueError\u001b[0m                                Traceback (most recent call last)",
      "\u001b[1;32m<ipython-input-8-fa28f1454285>\u001b[0m in \u001b[0;36m<module>\u001b[1;34m\u001b[0m\n\u001b[1;32m----> 1\u001b[1;33m \u001b[0mplt\u001b[0m\u001b[1;33m.\u001b[0m\u001b[0mscatter\u001b[0m\u001b[1;33m(\u001b[0m\u001b[0mX\u001b[0m\u001b[1;33m,\u001b[0m\u001b[0my\u001b[0m\u001b[1;33m)\u001b[0m\u001b[1;33m\u001b[0m\u001b[1;33m\u001b[0m\u001b[0m\n\u001b[0m\u001b[0;32m      2\u001b[0m \u001b[0mplt\u001b[0m\u001b[1;33m.\u001b[0m\u001b[0mshow\u001b[0m\u001b[1;33m(\u001b[0m\u001b[1;33m)\u001b[0m\u001b[1;33m\u001b[0m\u001b[1;33m\u001b[0m\u001b[0m\n",
      "\u001b[1;32m~\\AppData\\Local\\Programs\\Python\\Python38-32\\lib\\site-packages\\matplotlib\\pyplot.py\u001b[0m in \u001b[0;36mscatter\u001b[1;34m(x, y, s, c, marker, cmap, norm, vmin, vmax, alpha, linewidths, verts, edgecolors, plotnonfinite, data, **kwargs)\u001b[0m\n\u001b[0;32m   2809\u001b[0m         \u001b[0mverts\u001b[0m\u001b[1;33m=\u001b[0m\u001b[0mcbook\u001b[0m\u001b[1;33m.\u001b[0m\u001b[0mdeprecation\u001b[0m\u001b[1;33m.\u001b[0m\u001b[0m_deprecated_parameter\u001b[0m\u001b[1;33m,\u001b[0m\u001b[1;33m\u001b[0m\u001b[1;33m\u001b[0m\u001b[0m\n\u001b[0;32m   2810\u001b[0m         edgecolors=None, *, plotnonfinite=False, data=None, **kwargs):\n\u001b[1;32m-> 2811\u001b[1;33m     __ret = gca().scatter(\n\u001b[0m\u001b[0;32m   2812\u001b[0m         \u001b[0mx\u001b[0m\u001b[1;33m,\u001b[0m \u001b[0my\u001b[0m\u001b[1;33m,\u001b[0m \u001b[0ms\u001b[0m\u001b[1;33m=\u001b[0m\u001b[0ms\u001b[0m\u001b[1;33m,\u001b[0m \u001b[0mc\u001b[0m\u001b[1;33m=\u001b[0m\u001b[0mc\u001b[0m\u001b[1;33m,\u001b[0m \u001b[0mmarker\u001b[0m\u001b[1;33m=\u001b[0m\u001b[0mmarker\u001b[0m\u001b[1;33m,\u001b[0m \u001b[0mcmap\u001b[0m\u001b[1;33m=\u001b[0m\u001b[0mcmap\u001b[0m\u001b[1;33m,\u001b[0m \u001b[0mnorm\u001b[0m\u001b[1;33m=\u001b[0m\u001b[0mnorm\u001b[0m\u001b[1;33m,\u001b[0m\u001b[1;33m\u001b[0m\u001b[1;33m\u001b[0m\u001b[0m\n\u001b[0;32m   2813\u001b[0m         \u001b[0mvmin\u001b[0m\u001b[1;33m=\u001b[0m\u001b[0mvmin\u001b[0m\u001b[1;33m,\u001b[0m \u001b[0mvmax\u001b[0m\u001b[1;33m=\u001b[0m\u001b[0mvmax\u001b[0m\u001b[1;33m,\u001b[0m \u001b[0malpha\u001b[0m\u001b[1;33m=\u001b[0m\u001b[0malpha\u001b[0m\u001b[1;33m,\u001b[0m \u001b[0mlinewidths\u001b[0m\u001b[1;33m=\u001b[0m\u001b[0mlinewidths\u001b[0m\u001b[1;33m,\u001b[0m\u001b[1;33m\u001b[0m\u001b[1;33m\u001b[0m\u001b[0m\n",
      "\u001b[1;32m~\\AppData\\Local\\Programs\\Python\\Python38-32\\lib\\site-packages\\matplotlib\\__init__.py\u001b[0m in \u001b[0;36minner\u001b[1;34m(ax, data, *args, **kwargs)\u001b[0m\n\u001b[0;32m   1563\u001b[0m     \u001b[1;32mdef\u001b[0m \u001b[0minner\u001b[0m\u001b[1;33m(\u001b[0m\u001b[0max\u001b[0m\u001b[1;33m,\u001b[0m \u001b[1;33m*\u001b[0m\u001b[0margs\u001b[0m\u001b[1;33m,\u001b[0m \u001b[0mdata\u001b[0m\u001b[1;33m=\u001b[0m\u001b[1;32mNone\u001b[0m\u001b[1;33m,\u001b[0m \u001b[1;33m**\u001b[0m\u001b[0mkwargs\u001b[0m\u001b[1;33m)\u001b[0m\u001b[1;33m:\u001b[0m\u001b[1;33m\u001b[0m\u001b[1;33m\u001b[0m\u001b[0m\n\u001b[0;32m   1564\u001b[0m         \u001b[1;32mif\u001b[0m \u001b[0mdata\u001b[0m \u001b[1;32mis\u001b[0m \u001b[1;32mNone\u001b[0m\u001b[1;33m:\u001b[0m\u001b[1;33m\u001b[0m\u001b[1;33m\u001b[0m\u001b[0m\n\u001b[1;32m-> 1565\u001b[1;33m             \u001b[1;32mreturn\u001b[0m \u001b[0mfunc\u001b[0m\u001b[1;33m(\u001b[0m\u001b[0max\u001b[0m\u001b[1;33m,\u001b[0m \u001b[1;33m*\u001b[0m\u001b[0mmap\u001b[0m\u001b[1;33m(\u001b[0m\u001b[0msanitize_sequence\u001b[0m\u001b[1;33m,\u001b[0m \u001b[0margs\u001b[0m\u001b[1;33m)\u001b[0m\u001b[1;33m,\u001b[0m \u001b[1;33m**\u001b[0m\u001b[0mkwargs\u001b[0m\u001b[1;33m)\u001b[0m\u001b[1;33m\u001b[0m\u001b[1;33m\u001b[0m\u001b[0m\n\u001b[0m\u001b[0;32m   1566\u001b[0m \u001b[1;33m\u001b[0m\u001b[0m\n\u001b[0;32m   1567\u001b[0m         \u001b[0mbound\u001b[0m \u001b[1;33m=\u001b[0m \u001b[0mnew_sig\u001b[0m\u001b[1;33m.\u001b[0m\u001b[0mbind\u001b[0m\u001b[1;33m(\u001b[0m\u001b[0max\u001b[0m\u001b[1;33m,\u001b[0m \u001b[1;33m*\u001b[0m\u001b[0margs\u001b[0m\u001b[1;33m,\u001b[0m \u001b[1;33m**\u001b[0m\u001b[0mkwargs\u001b[0m\u001b[1;33m)\u001b[0m\u001b[1;33m\u001b[0m\u001b[1;33m\u001b[0m\u001b[0m\n",
      "\u001b[1;32m~\\AppData\\Local\\Programs\\Python\\Python38-32\\lib\\site-packages\\matplotlib\\cbook\\deprecation.py\u001b[0m in \u001b[0;36mwrapper\u001b[1;34m(*args, **kwargs)\u001b[0m\n\u001b[0;32m    356\u001b[0m                 \u001b[1;34mf\"%(removal)s.  If any parameter follows {name!r}, they \"\u001b[0m\u001b[1;33m\u001b[0m\u001b[1;33m\u001b[0m\u001b[0m\n\u001b[0;32m    357\u001b[0m                 f\"should be pass as keyword, not positionally.\")\n\u001b[1;32m--> 358\u001b[1;33m         \u001b[1;32mreturn\u001b[0m \u001b[0mfunc\u001b[0m\u001b[1;33m(\u001b[0m\u001b[1;33m*\u001b[0m\u001b[0margs\u001b[0m\u001b[1;33m,\u001b[0m \u001b[1;33m**\u001b[0m\u001b[0mkwargs\u001b[0m\u001b[1;33m)\u001b[0m\u001b[1;33m\u001b[0m\u001b[1;33m\u001b[0m\u001b[0m\n\u001b[0m\u001b[0;32m    359\u001b[0m \u001b[1;33m\u001b[0m\u001b[0m\n\u001b[0;32m    360\u001b[0m     \u001b[1;32mreturn\u001b[0m \u001b[0mwrapper\u001b[0m\u001b[1;33m\u001b[0m\u001b[1;33m\u001b[0m\u001b[0m\n",
      "\u001b[1;32m~\\AppData\\Local\\Programs\\Python\\Python38-32\\lib\\site-packages\\matplotlib\\axes\\_axes.py\u001b[0m in \u001b[0;36mscatter\u001b[1;34m(self, x, y, s, c, marker, cmap, norm, vmin, vmax, alpha, linewidths, verts, edgecolors, plotnonfinite, **kwargs)\u001b[0m\n\u001b[0;32m   4378\u001b[0m         \u001b[0my\u001b[0m \u001b[1;33m=\u001b[0m \u001b[0mnp\u001b[0m\u001b[1;33m.\u001b[0m\u001b[0mma\u001b[0m\u001b[1;33m.\u001b[0m\u001b[0mravel\u001b[0m\u001b[1;33m(\u001b[0m\u001b[0my\u001b[0m\u001b[1;33m)\u001b[0m\u001b[1;33m\u001b[0m\u001b[1;33m\u001b[0m\u001b[0m\n\u001b[0;32m   4379\u001b[0m         \u001b[1;32mif\u001b[0m \u001b[0mx\u001b[0m\u001b[1;33m.\u001b[0m\u001b[0msize\u001b[0m \u001b[1;33m!=\u001b[0m \u001b[0my\u001b[0m\u001b[1;33m.\u001b[0m\u001b[0msize\u001b[0m\u001b[1;33m:\u001b[0m\u001b[1;33m\u001b[0m\u001b[1;33m\u001b[0m\u001b[0m\n\u001b[1;32m-> 4380\u001b[1;33m             \u001b[1;32mraise\u001b[0m \u001b[0mValueError\u001b[0m\u001b[1;33m(\u001b[0m\u001b[1;34m\"x and y must be the same size\"\u001b[0m\u001b[1;33m)\u001b[0m\u001b[1;33m\u001b[0m\u001b[1;33m\u001b[0m\u001b[0m\n\u001b[0m\u001b[0;32m   4381\u001b[0m \u001b[1;33m\u001b[0m\u001b[0m\n\u001b[0;32m   4382\u001b[0m         \u001b[1;32mif\u001b[0m \u001b[0ms\u001b[0m \u001b[1;32mis\u001b[0m \u001b[1;32mNone\u001b[0m\u001b[1;33m:\u001b[0m\u001b[1;33m\u001b[0m\u001b[1;33m\u001b[0m\u001b[0m\n",
      "\u001b[1;31mValueError\u001b[0m: x and y must be the same size"
     ]
    },
    {
     "data": {
      "image/png": "[encoded data removed]",
      "text/plain": [
       "<Figure size 432x288 with 1 Axes>"
      ]
     },
     "metadata": {
      "needs_background": "light"
     },
     "output_type": "display_data"
    }
   ],
   "source": [
    "plt.scatter(X,y)\n",
    "plt.show()"
   ]
  },
  {
   "cell_type": "code",
   "execution_count": 9,
   "metadata": {},
   "outputs": [
    {
     "name": "stdout",
     "output_type": "stream",
     "text": [
      "1.0\n"
     ]
    }
   ],
   "source": [
    "x_train, x_test, y_train, y_test = sklearn.model_selection.train_test_split(X, y, test_size = 0.1)\n",
    "\n",
    "model = KNeighborsClassifier(n_neighbors=11)\n",
    "\n",
    "model.fit(x_train, y_train)\n",
    "acc = model.score(x_test, y_test)\n",
    "print(acc)"
   ]
  },
  {
   "cell_type": "code",
   "execution_count": 11,
   "metadata": {
    "scrolled": true
   },
   "outputs": [
    {
     "name": "stdout",
     "output_type": "stream",
     "text": [
      "Predicted:  Iris-versicolor , Data:  (20, 4, 26, 15) Actual:  Iris-versicolor\n",
      "Predicted:  Iris-virginica , Data:  (10, 16, 5, 1) Actual:  Iris-virginica\n",
      "Predicted:  Iris-versicolor , Data:  (33, 7, 41, 16) Actual:  Iris-versicolor\n",
      "Predicted:  Iris-virginica , Data:  (3, 10, 5, 1) Actual:  Iris-virginica\n",
      "Predicted:  Iris-setosa , Data:  (19, 1, 21, 11) Actual:  Iris-setosa\n",
      "Predicted:  Iris-setosa , Data:  (22, 7, 22, 11) Actual:  Iris-setosa\n",
      "Predicted:  Iris-virginica , Data:  (8, 17, 5, 2) Actual:  Iris-virginica\n",
      "Predicted:  Iris-versicolor , Data:  (33, 9, 37, 19) Actual:  Iris-versicolor\n",
      "Predicted:  Iris-versicolor , Data:  (26, 10, 30, 17) Actual:  Iris-versicolor\n",
      "Predicted:  Iris-virginica , Data:  (15, 19, 2, 1) Actual:  Iris-virginica\n",
      "Predicted:  Iris-virginica , Data:  (14, 17, 7, 2) Actual:  Iris-virginica\n",
      "Predicted:  Iris-virginica , Data:  (7, 12, 4, 1) Actual:  Iris-virginica\n",
      "Predicted:  Iris-setosa , Data:  (9, 6, 15, 10) Actual:  Iris-setosa\n",
      "Predicted:  Iris-virginica , Data:  (9, 13, 4, 1) Actual:  Iris-virginica\n",
      "Predicted:  Iris-versicolor , Data:  (20, 7, 27, 11) Actual:  Iris-versicolor\n"
     ]
    }
   ],
   "source": [
    "predicted = model.predict(x_test)\n",
    "\n",
    "names = ['Iris-virginica', 'Iris-setosa', 'Iris-versicolor']\n",
    "\n",
    "for x in range(len(predicted)):\n",
    "    print(\"Predicted: \", names[predicted[x]], \", Data: \", x_test[x], \"Actual: \", names[y_test[x]])"
   ]
  },
  {
   "cell_type": "code",
   "execution_count": null,
   "metadata": {},
   "outputs": [],
   "source": []
  }
 ],
 "metadata": {
  "kernelspec": {
   "display_name": "Python 3.8.0 32-bit",
   "language": "python",
   "name": "python38032bitf89af38f6aed4e70b8738a99152d0208"
  },
  "language_info": {
   "codemirror_mode": {
    "name": "ipython",
    "version": 3
   },
   "file_extension": ".py",
   "mimetype": "text/x-python",
   "name": "python",
   "nbconvert_exporter": "python",
   "pygments_lexer": "ipython3",
   "version": "3.8.0"
  }
 },
 "nbformat": 4,
 "nbformat_minor": 4
}
