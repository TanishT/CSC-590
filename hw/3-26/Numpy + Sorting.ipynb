{
 "cells": [
  {
   "cell_type": "code",
   "execution_count": 62,
   "metadata": {},
   "outputs": [],
   "source": [
    "import numpy as np\n",
    "import random\n",
    "import time"
   ]
  },
  {
   "cell_type": "code",
   "execution_count": 54,
   "metadata": {},
   "outputs": [
    {
     "name": "stdout",
     "output_type": "stream",
     "text": [
      "[ 55.  32.  53.  81.  77.  79.  99.  96.  43.  82.  42.  24.  33.  52.\n",
      "  21.  27.  94.  69.  35.  76.  83.  81.  52.  43.  87.   4.  32.  10.\n",
      "  93.  97.  49.   5.   2.  22.   4.  11.  34.  83.  60.  88.  83.  93.\n",
      "  98.  64.  26.  72.  45.  64.  39.  86.   2.  99.  21.   9.  24.  33.\n",
      "   1.   3.  73.  66.  39.  36.  38.  60.  51.  43.  83.  76.  19.   9.\n",
      "  34.  12.  57.  77.   2.  62.  50.  77.  66.  92.  96.  63.  76.   6.\n",
      "  93.  15.  75.  87.  54.  88.  71. 100.  52.  10.  89.  59.  15.   3.\n",
      "  71.  47.  35.  67.  26.  50.  94.  98.  35.  34.  13.  24.  33.  30.\n",
      "  50.  74.  22.  76.  67.  16.   7.  15.  57.  37.   8.  13.  40.  50.\n",
      "  67.  18.  95.  20.  21.  40.   1.  13.  10.  85.   1.  26.  48.  98.\n",
      "  84.  23.  30.  43.  32.   4.  12.  26.  20.  47.  50.  17.   4.  46.\n",
      "  23.  27.  50.  70.   0.  95.  59.  42.   4.  16.  59.  15.  74.  29.\n",
      "  82.  67.  73.  93.  62. 100.  80.  35.  88.  66.  73.  22.  17.  48.\n",
      "  93.  65.  87.  79.  51.  43.  59.  16.  90.  70.   9.  93.   7.  29.\n",
      "  98.  22.  91.  11.  66.  48.  26.  27.  26.  49.  13.  71.  41.  93.\n",
      "  38.  57.  65.  56.  77.  26.  31.  30.  88.  27.  97.  32.  80.  70.\n",
      "   3.  25.  66.  87.  92.  12.  38.  54.  90.  79.  56.   3.   9.  79.\n",
      "  49.  78.   5.  44.  66.  40.  70.  35.  94.  31.  94.  80.  42.  11.\n",
      "  88.  62.  76.  67.  35.   6.  18.  23.  62.  99.  71.  76.  79.  82.\n",
      "  42.  88.   1.  52.  86.  21.  39.  64.  99.  34.   0.   8.  21.  21.\n",
      "  18.  91.  19.  50.  14.  89.  41.  51.   1.  74.  94.  85.  32.  30.\n",
      "  10.  78.   1.  45.  51.  79.  72.  80.   9.  70.  42.  40.   5.   3.\n",
      "   2.  74.  64.  55.  42.  46.  39.  97.  80.  96.  35.  57.   2.  31.\n",
      "  11.  18.   2.  14.  93.  48.  41.  48.  28.  95.  31.  34.  28.  69.\n",
      "   9.  66.  60.  65.   3.  93.  97.  92.  73.  10.  79.  55.  64.  75.\n",
      "   6.  76.   7.  54.  88.  24.  21.  71.  86.  43.  24.  51.  81.  61.\n",
      "  83.  20.  46.  33.  22.  45.  54.  47.  68.  87.  21.  49.  33.  78.\n",
      "  19.  11.  77.  24.  26.  78.  12.  81.  74.  38.  35.  86.  86.  22.\n",
      "  11.  61.  93.  38.  18.  72.  77.   4.  10.  98.  21.  73.  21.  76.\n",
      "  33.   1.  77.  22.  27.  27.   9.  12.   7.   3.   3.  25.  12.  93.\n",
      "  10.  37.  80.  76.  96.  30.  40.  84.  66.  75.  89.  18.  17.  95.\n",
      "  28.   8.  47.  88.  12.  50.  14.  63.   3.  40.   3.  96.  16.  71.\n",
      "  41.  29.  73.  18.  78.  45.  88.  74.  64.  78.  79.  19.  98.  35.\n",
      "  22.  72.  88.  29.  39.  94.  96.  57.  27.  10.  77.  51.  48.  45.\n",
      "   0.  19.  13.  53. 100.  48.  31.  37.  28.  61.  99.  41.  36.  97.\n",
      "  28.  12.  47.  83.   0.  30.  82.  63.   7.  11.]\n"
     ]
    }
   ],
   "source": [
    "array = np.zeros(shape = 500)\n",
    "for i in range(500):\n",
    "    rand_num = random.randint(0, 100)\n",
    "    array[i] = rand_num\n",
    "print(array)"
   ]
  },
  {
   "cell_type": "code",
   "execution_count": 47,
   "metadata": {},
   "outputs": [],
   "source": [
    "def bubblesort(arr):\n",
    "    for i in range(len(arr)):\n",
    "        still_swapping = False\n",
    "        for j in range(len(arr)-1):\n",
    "            if arr[j] > arr[j+1] :\n",
    "                arr[j], arr[j+1] = arr[j+1], arr[j]\n",
    "                still_swapping = True\n",
    "        if still_swapping == False:\n",
    "            #array has now been properly sorted\n",
    "            break"
   ]
  },
  {
   "cell_type": "code",
   "execution_count": 48,
   "metadata": {},
   "outputs": [],
   "source": [
    "def selectionsort(arr):\n",
    "    \"\"\"\n",
    "    logic: find index of minimum value from unsorted portion of arr and puts it at the end of sorted arr\n",
    "    \"\"\" \n",
    "    for i in range(len(arr)):\n",
    "        min_idx = i\n",
    "        for j in range(i+1, len(arr)):\n",
    "            if arr[min_idx] > arr[j]:\n",
    "                min_idx = j     \n",
    "        arr[i], arr[min_idx] = arr[min_idx], arr[i]"
   ]
  },
  {
   "cell_type": "code",
   "execution_count": 49,
   "metadata": {},
   "outputs": [],
   "source": [
    "def insertionsort(arr):\n",
    "    \"\"\"\n",
    "    logic: Compare the current element (key) to its predecessor. \n",
    "    If the key element is smaller than its predecessor, compare it to the elements before. \n",
    "    Move the greater elements one position up to make space for the swapped element.\n",
    "    \"\"\"\n",
    "    for i in range(1, len(arr)):\n",
    "        key = arr[i]\n",
    "        j = i-1\n",
    "        while j >= 0 and key < arr[j]:\n",
    "                arr[j + 1] = arr[j]\n",
    "                j -= 1\n",
    "        arr[j + 1] = key"
   ]
  },
  {
   "cell_type": "code",
   "execution_count": 50,
   "metadata": {},
   "outputs": [],
   "source": [
    "def mergesort(array):\n",
    "    if (len(array) > 1):\n",
    "        mid = len(array) // 2\n",
    "        left = array[:mid]\n",
    "        right = array[mid:]        \n",
    "        mergesort(left)\n",
    "        mergesort(right)\n",
    "        i = j = k = 0 # i is left arr idx, j is right arr idx, k is array idx\n",
    "        while (i < len(left) and j < len(right)):\n",
    "            if left[i] < right[j]:\n",
    "                array[k] = left[i]\n",
    "                i += 1\n",
    "            else:\n",
    "                array[k] = right[j]\n",
    "                j += 1\n",
    "            k += 1\n",
    "        while i < len(left):\n",
    "            array[k] = left[i]\n",
    "            i += 1\n",
    "            k += 1\n",
    "        while j < len(right):\n",
    "            array[k] = right[j]\n",
    "            j += 1\n",
    "            k += 1"
   ]
  },
  {
   "cell_type": "code",
   "execution_count": 56,
   "metadata": {
    "scrolled": true
   },
   "outputs": [
    {
     "name": "stdout",
     "output_type": "stream",
     "text": [
      "[ 85.  67.  62.  19.  97.  30.  80.  91.  67.  91.  90.  72.  76.   1.\n",
      "  62.  63.  19.  88.  43.  53.  22.  51.  54.  23.  68.  86.  17.  91.\n",
      "  89.  67.  87.  20.  62.  14.  80.  95.  47.  83.  55.  63.  72.  63.\n",
      "  97.  87.  35.  20.  44.  48.  57.  45.  70.  84.  82.  96.  47.  18.\n",
      "  93.  64.   9.  95.  13.  32.  40.  73.  55.  23.   4.  45.  56.  57.\n",
      "  77.  16.  74.   9.  72.  11.  45.  51.  75.  89.  71.  12.  16.  25.\n",
      "  18.  17.  84.  60.  32.  99.  73.  61.  51.  15.  96.  32.  30.  58.\n",
      "  38.  61.  82.  41.  62.  29.  69.   6.  37.  86.  59.  10.  96.  97.\n",
      "  63.  91.  92.  26.  73.  76.  25.  61.  27.  51.  36.  81.  23.  30.\n",
      "  69.  23.  16.  58.   7.  95.  75.  47.  80.  24.  79.  73.  93.  58.\n",
      "  96.  33.  65.  31.  29.  24.  66. 100.  89.  25.  52.   4.  98.  73.\n",
      "  97.  57.  45.  16.  43.  48.  59.   4.  76.  47.  78.  79.  59.  21.\n",
      "  68.   6.  51.  14.  52.  21.  69.  65.  46.  89.  81.  71.  27.  51.\n",
      "  84.   8.   1.  14.  84.  27.  38.  79.  22.  47.  79.  70.  83.  51.\n",
      "  17.  96.  97.  44.  25.  68.  80.  70.  25.   2.   9.  70.  57.  44.\n",
      "  58.  90.  94.  91.  56.  25.  33.  17.  17.  73. 100.  60.  13.  40.\n",
      "  68.  31.  30.  15.   8.  43.  82.  82.  36.  66.  65.   7.  91.  64.\n",
      "  39.   5.  36.  68.  74.  88.  20.  52.  28.  11.   0.  54.  85.  52.\n",
      "  39.  27.   4.  11.  72.  89.  56.  10.  20.  24.  62.  67.  43.  66.\n",
      "  46.  47.  12.  61.  26.  73.  19.  74.  10.  70.  48.   3.   9.  65.\n",
      "  95.  93.  34.  40.  85.   1.   7.  56.   2.  53.  56.  45.  43.  75.\n",
      "  35.  37.  23.  14.  80.  88.  75.  78.  66.  17.  47.  52.  34.  47.\n",
      "  26.  61.  84.  80.  99.  23.   3.  59.  89.  15.  81.  36.  40.  24.\n",
      "  70.  49.  47.  79.  15.  96.  85.  15.  94.  10.  11.  74.  32.  58.\n",
      "  36.  10.   4.  39.  67.  22.  81.  83.  17.  10.   4.  37.  40.  76.\n",
      "  86.  96.  39.  88.  15.  45.  11.  29.  98.   0.   3.  53.  99.  65.\n",
      "  45.  30.   8.  38.  46.  36.  17.   9.  53.  90.  35.  24.  94.  31.\n",
      "  38.  27.  28.  94.  52.  22.  77.  38.  16.  85.  26.  17.  84.  81.\n",
      "  28.  29.  22.  73.  82.  95.  36.  46.  32.  53.  49.  34.  40.  33.\n",
      "  76.  84.  58.  75.  74.  43.  28.  11.  34.  44.  98.  42.  21.  63.\n",
      "  69.  26.  64.  76.  84.  50.  11.  65.  94.  76.  85.  97.  95.  65.\n",
      "  32.  88.  81.  28.  51.  35.  99.  73.  34.  92.  61.  77.  59.  37.\n",
      "  66.  35.  60.  88.  32.  93.  98.  68.  22.  46.  45.  81.  19.  28.\n",
      "  14.  87.  69.  72.  25.   0.  47.  50.  26.  75.  52.  66.  84.  12.\n",
      "  55.  81.  36.  98.  43.  82.  10.  19.  43.  60.  45.   5.  68.  71.\n",
      "  33.  79.  46.  24. 100.  53.  79.  93.  60.  76.]\n"
     ]
    }
   ],
   "source": [
    "ar2 = np.zeros(shape = 500)\n",
    "for i in range(500):\n",
    "    rand_num = random.randint(0, 100)\n",
    "    ar2[i] = rand_num\n",
    "print(ar2)"
   ]
  },
  {
   "cell_type": "code",
   "execution_count": 76,
   "metadata": {},
   "outputs": [
    {
     "name": "stdout",
     "output_type": "stream",
     "text": [
      "My program took 5992700 to run\n"
     ]
    }
   ],
   "source": [
    "start_time = time.time_ns()\n",
    "#bubblesort(array)\n",
    "#selectionsort(array)\n",
    "#insertionsort(array)\n",
    "mergesort(array)\n",
    "#mergeSort(ar2)\n",
    "print(\"My program took\", time.time_ns() - start_time, \"to run\")"
   ]
  },
  {
   "cell_type": "code",
   "execution_count": null,
   "metadata": {},
   "outputs": [],
   "source": [
    "selection = 79,966,900 \n",
    "bubble = 1,999,800 \n",
    "insertion = 999000 \n",
    "merge = 6,994,300 "
   ]
  },
  {
   "cell_type": "code",
   "execution_count": null,
   "metadata": {},
   "outputs": [],
   "source": []
  }
 ],
 "metadata": {
  "kernelspec": {
   "display_name": "Python 3.8.0 32-bit",
   "language": "python",
   "name": "python38032bitf89af38f6aed4e70b8738a99152d0208"
  },
  "language_info": {
   "codemirror_mode": {
    "name": "ipython",
    "version": 3
   },
   "file_extension": ".py",
   "mimetype": "text/x-python",
   "name": "python",
   "nbconvert_exporter": "python",
   "pygments_lexer": "ipython3",
   "version": "3.8.0"
  }
 },
 "nbformat": 4,
 "nbformat_minor": 4
}
