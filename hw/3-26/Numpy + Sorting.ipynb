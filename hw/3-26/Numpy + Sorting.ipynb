{
 "cells": [
  {
   "cell_type": "code",
   "execution_count": 92,
   "metadata": {},
   "outputs": [],
   "source": [
    "import numpy as np\n",
    "import random\n",
    "import time"
   ]
  },
  {
   "cell_type": "code",
   "execution_count": 109,
   "metadata": {},
   "outputs": [
    {
     "name": "stdout",
     "output_type": "stream",
     "text": [
      "[ 78.  72.  23.  76.  33.  60.  61.  85.  97.  72.  92.  91.  90.  87.\n",
      "   9.  25.  31.  75.  58.  46.  22.  99.  52.  49.  76.  59.  87.  75.\n",
      "  93.  78.  25.  77.  14.   2.  80.   6.  35.  63.  69.  18.  10.  13.\n",
      "  77.  96.  22.  38.  28.  99.  32.  48.  12.   4.  49.  97.   6.  24.\n",
      "  33.  10.  20.  19.  34.   2.  27.   3.  80.  65.  20.  31.  59.  13.\n",
      "  69.  96.  77.  32.   7.   1.  86.  97.  45.  44.  93.  42.  62.  87.\n",
      "   9.  77.   8.  91.   3.  98.  32.  53.  62.   0.  42.  77.  85.  83.\n",
      "  94.  45.  37.  24.   8.  29.   4.  51.   7.  83.  42.  96.  39.  18.\n",
      "  91.  80.   6.   6.  50.  83.  70.  62.  97.  11.   7.  17.  42.  43.\n",
      "  24.  91.  56.  13.  78.  97.  91.  20.  30.  85.  75.  91.  46.  74.\n",
      "  69.  88.  39.  68.  47.   0.  79.   6.  74.  17.  67.  72.  40.  94.\n",
      "  35.  79.  89.  77.  79.  68.  91.  49.  76.  65.  57.  89.  77.  73.\n",
      "  78.  14.  12.  41.  69.  23.  94.  56.  56.  44.  77.  28.  76.  63.\n",
      "  59.  68.  36.  46.  68.  57.  66.   5.  22.  26.  40.  40.  37.  90.\n",
      "  79.   4.  19.  60.  35.  10.  79.  78.  11.   7.  54.  54.  91.  59.\n",
      "  30.  36.  59.  66.  73.   5.  51.  20.  39.  53.  11.  87.  74.  42.\n",
      "  41.  96.  13.  69.  26.  37.   7.  20.  14.  94.  40.  86.  20.  49.\n",
      "  23.  31.  86.  93.  24.  30.  59.  42.  31.  52.  74.  78.  87.  65.\n",
      "  54.   6.  11.  66.  61.  79.  52.  90.  82.  47.  97.  74.  46.  50.\n",
      "  67.  85.  45.  93.  92.  18.  66.  99.  79.   5.  79.  65.  60.  96.\n",
      "  35.  36.  51.  50.  26.  87.  83.  38.  11.  40.   5.  96.  92.  27.\n",
      "  37.  56.  27.  75.  65.  53.  90.  51.  95.  85.   2.  86.  60.  12.\n",
      "  88.   5.  88.  29.  37.  62.  44.  79.  42.   0.  55.  68.  88.  90.\n",
      "  56.  69.  43.  64.  59.  19.  25.   8.  87.  25.  71.  37.  69.   2.\n",
      "  88.  35.  15.  92.  28.  80.  55.  21.  22.  10.  84.  25.  21.   9.\n",
      "  90.  77.  84.  54.  90.   4.  24.  99.  32.  41.  38.  66.  80.  73.\n",
      "  28.  97.   0.  20.  82.  76.  41.  42.  73.  79.  80.  45.  50.   5.\n",
      "  69.  52.  43.  61.  62.  36.  10.  39.  65.  62.  90.  13.  61.  95.\n",
      "  97.   2.  54.  48.  51.  85.  67.  20.   0.   8.  58.  65.   8.  43.\n",
      "   6.  27.  86.  16.  34.  72.  52.  72.  76.  92.  88.  83.  65.  31.\n",
      "  17.  18.   5.  65.  82.   7.  84. 100.  99.  90.  30.  61.  53.  75.\n",
      "  49.   1.  79.  76.  30.  15.  73.  99.  64.  32.  38.  38.  96.  11.\n",
      "  12.  29.  24.  90.  31.  24.  81.  94.  59.  81.  42.  66.   9.  71.\n",
      "  67.  34.  56.  44.   0.  86.  14.  57.  21.  78.  74.  71.  25.  38.\n",
      "  22.   0.  15.  57.  79.  62.  59.  65.  44.  66.  67.  78.  71.  55.\n",
      "  46.  37.  58.  54.  72.  41.  24.  98.  16.  56.]\n"
     ]
    }
   ],
   "source": [
    "array = np.zeros(shape = 500)\n",
    "for i in range(500):\n",
    "    rand_num = random.randint(0, 100)\n",
    "    array[i] = rand_num\n",
    "print(array)"
   ]
  },
  {
   "cell_type": "code",
   "execution_count": 110,
   "metadata": {},
   "outputs": [],
   "source": [
    "def bubblesort(arr):\n",
    "    for i in range(len(arr)):\n",
    "        still_swapping = False\n",
    "        for j in range(len(arr)-1):\n",
    "            if arr[j] > arr[j+1] :\n",
    "                arr[j], arr[j+1] = arr[j+1], arr[j]\n",
    "                still_swapping = True\n",
    "        if still_swapping == False:\n",
    "            #array has now been properly sorted\n",
    "            break"
   ]
  },
  {
   "cell_type": "code",
   "execution_count": 111,
   "metadata": {},
   "outputs": [],
   "source": [
    "def selectionsort(arr):\n",
    "    \"\"\"\n",
    "    logic: find index of minimum value from unsorted portion of arr and puts it at the end of sorted arr\n",
    "    \"\"\" \n",
    "    for i in range(len(arr)):\n",
    "        min_idx = i\n",
    "        for j in range(i+1, len(arr)):\n",
    "            if arr[min_idx] > arr[j]:\n",
    "                min_idx = j     \n",
    "        arr[i], arr[min_idx] = arr[min_idx], arr[i]"
   ]
  },
  {
   "cell_type": "code",
   "execution_count": 112,
   "metadata": {},
   "outputs": [],
   "source": [
    "def insertionsort(arr):\n",
    "    \"\"\"\n",
    "    logic: Compare the current element (key) to its predecessor. \n",
    "    If the key element is smaller than its predecessor, compare it to the elements before. \n",
    "    Move the greater elements one position up to make space for the swapped element.\n",
    "    \"\"\"\n",
    "    for i in range(1, len(arr)):\n",
    "        key = arr[i]\n",
    "        j = i-1\n",
    "        while j >= 0 and key < arr[j]:\n",
    "                arr[j + 1] = arr[j]\n",
    "                j -= 1\n",
    "        arr[j + 1] = key"
   ]
  },
  {
   "cell_type": "code",
   "execution_count": 113,
   "metadata": {},
   "outputs": [],
   "source": [
    "def mergesort(array):\n",
    "    if (len(array) > 1):\n",
    "        mid = len(array) // 2\n",
    "        left = array[:mid]\n",
    "        right = array[mid:]        \n",
    "        mergesort(left)\n",
    "        mergesort(right)\n",
    "        i = j = k = 0 # i is left arr idx, j is right arr idx, k is array idx\n",
    "        while (i < len(left) and j < len(right)):\n",
    "            if left[i] < right[j]:\n",
    "                array[k] = left[i]\n",
    "                i += 1\n",
    "            else:\n",
    "                array[k] = right[j]\n",
    "                j += 1\n",
    "            k += 1\n",
    "        while i < len(left):\n",
    "            array[k] = left[i]\n",
    "            i += 1\n",
    "            k += 1\n",
    "        while j < len(right):\n",
    "            array[k] = right[j]\n",
    "            j += 1\n",
    "            k += 1"
   ]
  },
  {
   "cell_type": "code",
   "execution_count": 114,
   "metadata": {
    "scrolled": true
   },
   "outputs": [
    {
     "name": "stdout",
     "output_type": "stream",
     "text": [
      "[100.  27.  99.  64.  79.  29.  55.  46.  90.  92.  62.  43.  50.  22.\n",
      "  99.  90.  54.  67.  31.  79.  91.   3.  13.   4.  41.  10.  83.  58.\n",
      "  72.   3.  15.  82.   4.  94.   4.  65.  56.  37.  30.  74.  26.  30.\n",
      "  10.  90.  83.  61.   6.  20.  75.  68.  32.  62.  72.  60.  20.  21.\n",
      "  46.  95.  54.  42.  84.  51.  70.  17.   5.  82.  13.  25.   6.  85.\n",
      "  57.  98.  68.  61.  40.  55.  25.  64.  46.  83.  48.  42.  48.  74.\n",
      "  26.  12.   4.  50.  71.  15.  38.  21.   8.  94.  41.  51.  23.  24.\n",
      "  49.   4.  70.  51.  77.  75.  68.  17.  23.  87.   0.  42.  78.  22.\n",
      "  71.  46.  99.   9.  22.  43.  32.  31.   2.  34.   5.  62.  50.  92.\n",
      "  50.  58.  54.  73.  17.  99.   2.  88.  90.  77.  71.   8.  49.  69.\n",
      "  82.   6.  63.  99.  49.   5.  85.  84.  52.  97.   2.  29.  29.  40.\n",
      "  15.  40.  75.  84.  31.   8.  81.  74.  47.  23.  35.  69.  87.  29.\n",
      "  25.  50.  11.  77.  76.  67.  12.  69.   0.  90.  37.  14.  14.  52.\n",
      " 100.  10.  48.  13.  91.  86.  17.   7.  29.  93.  16.  63.  73.  17.\n",
      "  54.  70.  12.  60.  34.  84.  15.  89.  45.  11.  28.  78.  18.  42.\n",
      "  43.  13.  93.  29.  52.  98.   8.  48.  65.  89.  96.  30.  81.  15.\n",
      "  78.  39.  33.  82.  52.  91.  83.  54.  26.  22.  31.  25.  30.  90.\n",
      "   1.  82.  36.  12.  11.  55.  13.   0.  43.  91.  23.  46.  10. 100.\n",
      "  64.  40.  55.  29.  97.  62.  32.  49.  68.  21.  30.  69.  57.  53.\n",
      "   2.   8.  54.  92.  89.  78.  23.  62.  45.   1.  73. 100.  44.  10.\n",
      "  86.   8.  25.  52.  36.  46.  22.  61.  56.  89.  88.  73.  14.  83.\n",
      "  36.  52.  39.  25.  91.  43.  93.  14.  95.  86.  62.  90.  37.  61.\n",
      "  65.  80.  20.  66.  82.  72.  72.  75.  84.  87.  96.  26.  80.  65.\n",
      "  86.  63.  15.  84.  78.  83.  51.  77.  98.  29.  65.   3.  27.  18.\n",
      "  25.  51.   0.  46.  90.  30.  65.  93.  14.  68.  13.  66.  81.  25.\n",
      "  24.  10.  25.   0.  36.  43.  25.  93.  26.  69.  78.  24.  58. 100.\n",
      "  92.  55.  80.  70.  17.  89.  55.  89.  36.  72.  13.  69.  33.  55.\n",
      "  24.  35.  20.  41.  20.  83.  17.  70.  40.   7.  52.  11.  75.  50.\n",
      "  21.  15.  75.  92.   0.  57.  56.  52.  72.   8.  93.  14.  30.   3.\n",
      "   2.   2.  57.  55.  69.  21.  81.  69.   3.  72.  76.  11.  42.  63.\n",
      "  70.   1.  20.  65.  79.  46.  82.  59.  98.  35.  38.  45.  15.  23.\n",
      "   5.  14.  89.  87.  24.  52.  59.  31.  15.  81.  42.  76.  53.   5.\n",
      "  21.  31.  81.  41.  37.  74.  77.  15.  90.  88.  99.  38.  95.  14.\n",
      " 100.  11.  90.  98.   2.   9.  38.  96.   1.  40.  86.  35.  85.  72.\n",
      "  94.  31.  33.  43.  45.   6.  30.  70.  13.  70.  23.  60.  84.  28.\n",
      "  39.  18.  49.  61.   3.  97.  93.  18.  36.  95.]\n"
     ]
    }
   ],
   "source": [
    "ar2 = np.zeros(shape = 500)\n",
    "for i in range(500):\n",
    "    rand_num = random.randint(0, 100)\n",
    "    ar2[i] = rand_num\n",
    "print(ar2)"
   ]
  },
  {
   "cell_type": "code",
   "execution_count": 115,
   "metadata": {},
   "outputs": [
    {
     "name": "stdout",
     "output_type": "stream",
     "text": [
      "My program took 0.0839523 to run\n"
     ]
    }
   ],
   "source": [
    "start_time = time.time_ns()\n",
    "#bubblesort(array)\n",
    "selectionsort(array)\n",
    "#insertionsort(array)\n",
    "#mergesort(array)\n",
    "#array.sort()\n",
    "print(\"My program took\", (time.time_ns() - start_time) / 1e9, \"to run\")"
   ]
  }
 ],
 "metadata": {
  "kernelspec": {
   "display_name": "Python 3.8.0 32-bit",
   "language": "python",
   "name": "python38032bitf89af38f6aed4e70b8738a99152d0208"
  },
  "language_info": {
   "codemirror_mode": {
    "name": "ipython",
    "version": 3
   },
   "file_extension": ".py",
   "mimetype": "text/x-python",
   "name": "python",
   "nbconvert_exporter": "python",
   "pygments_lexer": "ipython3",
   "version": "3.8.0"
  }
 },
 "nbformat": 4,
 "nbformat_minor": 4
}
